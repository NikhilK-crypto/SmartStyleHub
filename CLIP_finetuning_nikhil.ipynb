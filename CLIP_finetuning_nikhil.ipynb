{
 "cells": [
  {
   "cell_type": "code",
   "execution_count": 1,
   "id": "b14aa913-436b-439d-b1d5-87719b9c05ff",
   "metadata": {},
   "outputs": [],
   "source": [
    "# importing libraries \n",
    "import pandas as pd \n",
    "import numpy as np # importing libraries \n",
    "import torch\n",
    "from transformers import CLIPProcessor, CLIPModel, CLIPTokenizer\n",
    "import matplotlib.pyplot as plt \n",
    "import os "
   ]
  },
  {
   "cell_type": "code",
   "execution_count": 2,
   "id": "bd11c9d9-4903-415b-a2d9-42bc3c452e0a",
   "metadata": {
    "scrolled": true
   },
   "outputs": [
    {
     "data": {
      "text/html": [
       "<div>\n",
       "<style scoped>\n",
       "    .dataframe tbody tr th:only-of-type {\n",
       "        vertical-align: middle;\n",
       "    }\n",
       "\n",
       "    .dataframe tbody tr th {\n",
       "        vertical-align: top;\n",
       "    }\n",
       "\n",
       "    .dataframe thead th {\n",
       "        text-align: right;\n",
       "    }\n",
       "</style>\n",
       "<table border=\"1\" class=\"dataframe\">\n",
       "  <thead>\n",
       "    <tr style=\"text-align: right;\">\n",
       "      <th></th>\n",
       "      <th>article_id</th>\n",
       "      <th>prod_name</th>\n",
       "      <th>product_type_name</th>\n",
       "      <th>product_group_name</th>\n",
       "      <th>graphical_appearance_name</th>\n",
       "      <th>colour_group_name</th>\n",
       "      <th>department_name</th>\n",
       "      <th>index_name</th>\n",
       "      <th>index_group_name</th>\n",
       "      <th>section_name</th>\n",
       "      <th>garment_group_name</th>\n",
       "      <th>detail_desc</th>\n",
       "      <th>gender</th>\n",
       "      <th>caption</th>\n",
       "    </tr>\n",
       "  </thead>\n",
       "  <tbody>\n",
       "    <tr>\n",
       "      <th>0</th>\n",
       "      <td>108775015</td>\n",
       "      <td>Strap top</td>\n",
       "      <td>Vest top</td>\n",
       "      <td>Garment Upper body</td>\n",
       "      <td>Solid</td>\n",
       "      <td>Black</td>\n",
       "      <td>Jersey Basic</td>\n",
       "      <td>Ladieswear</td>\n",
       "      <td>Ladieswear</td>\n",
       "      <td>Womens Everyday Basics</td>\n",
       "      <td>Jersey Basic</td>\n",
       "      <td>Jersey top with narrow shoulder straps.</td>\n",
       "      <td>womens</td>\n",
       "      <td>womens Solid Black Vest top, Jersey top with n...</td>\n",
       "    </tr>\n",
       "    <tr>\n",
       "      <th>1</th>\n",
       "      <td>108775044</td>\n",
       "      <td>Strap top</td>\n",
       "      <td>Vest top</td>\n",
       "      <td>Garment Upper body</td>\n",
       "      <td>Solid</td>\n",
       "      <td>White</td>\n",
       "      <td>Jersey Basic</td>\n",
       "      <td>Ladieswear</td>\n",
       "      <td>Ladieswear</td>\n",
       "      <td>Womens Everyday Basics</td>\n",
       "      <td>Jersey Basic</td>\n",
       "      <td>Jersey top with narrow shoulder straps.</td>\n",
       "      <td>womens</td>\n",
       "      <td>womens Solid White Vest top, Jersey top with n...</td>\n",
       "    </tr>\n",
       "    <tr>\n",
       "      <th>2</th>\n",
       "      <td>108775051</td>\n",
       "      <td>Strap top (1)</td>\n",
       "      <td>Vest top</td>\n",
       "      <td>Garment Upper body</td>\n",
       "      <td>Stripe</td>\n",
       "      <td>Off White</td>\n",
       "      <td>Jersey Basic</td>\n",
       "      <td>Ladieswear</td>\n",
       "      <td>Ladieswear</td>\n",
       "      <td>Womens Everyday Basics</td>\n",
       "      <td>Jersey Basic</td>\n",
       "      <td>Jersey top with narrow shoulder straps.</td>\n",
       "      <td>womens</td>\n",
       "      <td>womens Stripe Off White Vest top, Jersey top w...</td>\n",
       "    </tr>\n",
       "    <tr>\n",
       "      <th>3</th>\n",
       "      <td>111586001</td>\n",
       "      <td>Shape Up 30 den 1p Tights</td>\n",
       "      <td>Leggings</td>\n",
       "      <td>Garment Lower body</td>\n",
       "      <td>Solid</td>\n",
       "      <td>Black</td>\n",
       "      <td>Tights basic</td>\n",
       "      <td>Lingeries/Tights</td>\n",
       "      <td>Ladieswear</td>\n",
       "      <td>Womens Nightwear, Socks &amp; Tigh</td>\n",
       "      <td>Socks and Tights</td>\n",
       "      <td>Tights with built-in support to lift the botto...</td>\n",
       "      <td>womens</td>\n",
       "      <td>womens Solid Black Leggings, Tights with built...</td>\n",
       "    </tr>\n",
       "    <tr>\n",
       "      <th>4</th>\n",
       "      <td>116379047</td>\n",
       "      <td>Frugan longsleeve</td>\n",
       "      <td>Top</td>\n",
       "      <td>Garment Upper body</td>\n",
       "      <td>Solid</td>\n",
       "      <td>Dark Blue</td>\n",
       "      <td>Jersey Basic</td>\n",
       "      <td>Ladieswear</td>\n",
       "      <td>Ladieswear</td>\n",
       "      <td>Womens Everyday Basics</td>\n",
       "      <td>Jersey Basic</td>\n",
       "      <td>Fitted top in soft stretch jersey with a wide ...</td>\n",
       "      <td>womens</td>\n",
       "      <td>womens Solid Dark Blue Top, Fitted top in soft...</td>\n",
       "    </tr>\n",
       "  </tbody>\n",
       "</table>\n",
       "</div>"
      ],
      "text/plain": [
       "   article_id                  prod_name product_type_name  \\\n",
       "0   108775015                  Strap top          Vest top   \n",
       "1   108775044                  Strap top          Vest top   \n",
       "2   108775051              Strap top (1)          Vest top   \n",
       "3   111586001  Shape Up 30 den 1p Tights          Leggings   \n",
       "4   116379047          Frugan longsleeve               Top   \n",
       "\n",
       "   product_group_name graphical_appearance_name colour_group_name  \\\n",
       "0  Garment Upper body                     Solid             Black   \n",
       "1  Garment Upper body                     Solid             White   \n",
       "2  Garment Upper body                    Stripe         Off White   \n",
       "3  Garment Lower body                     Solid             Black   \n",
       "4  Garment Upper body                     Solid         Dark Blue   \n",
       "\n",
       "  department_name        index_name index_group_name  \\\n",
       "0    Jersey Basic        Ladieswear       Ladieswear   \n",
       "1    Jersey Basic        Ladieswear       Ladieswear   \n",
       "2    Jersey Basic        Ladieswear       Ladieswear   \n",
       "3    Tights basic  Lingeries/Tights       Ladieswear   \n",
       "4    Jersey Basic        Ladieswear       Ladieswear   \n",
       "\n",
       "                     section_name garment_group_name  \\\n",
       "0          Womens Everyday Basics       Jersey Basic   \n",
       "1          Womens Everyday Basics       Jersey Basic   \n",
       "2          Womens Everyday Basics       Jersey Basic   \n",
       "3  Womens Nightwear, Socks & Tigh   Socks and Tights   \n",
       "4          Womens Everyday Basics       Jersey Basic   \n",
       "\n",
       "                                         detail_desc  gender  \\\n",
       "0            Jersey top with narrow shoulder straps.  womens   \n",
       "1            Jersey top with narrow shoulder straps.  womens   \n",
       "2            Jersey top with narrow shoulder straps.  womens   \n",
       "3  Tights with built-in support to lift the botto...  womens   \n",
       "4  Fitted top in soft stretch jersey with a wide ...  womens   \n",
       "\n",
       "                                             caption  \n",
       "0  womens Solid Black Vest top, Jersey top with n...  \n",
       "1  womens Solid White Vest top, Jersey top with n...  \n",
       "2  womens Stripe Off White Vest top, Jersey top w...  \n",
       "3  womens Solid Black Leggings, Tights with built...  \n",
       "4  womens Solid Dark Blue Top, Fitted top in soft...  "
      ]
     },
     "execution_count": 2,
     "metadata": {},
     "output_type": "execute_result"
    }
   ],
   "source": [
    "df = pd.read_csv('selected_articles.csv')\n",
    "df.drop(columns=['Unnamed: 0'],inplace=True,axis=1)\n",
    "df.head()"
   ]
  },
  {
   "cell_type": "code",
   "execution_count": 3,
   "id": "7cabf59e-970e-49ef-bee4-8442bb7c5510",
   "metadata": {
    "scrolled": true
   },
   "outputs": [
    {
     "data": {
      "text/plain": [
       "Index(['article_id', 'prod_name', 'product_type_name', 'product_group_name',\n",
       "       'graphical_appearance_name', 'colour_group_name', 'department_name',\n",
       "       'index_name', 'index_group_name', 'section_name', 'garment_group_name',\n",
       "       'detail_desc', 'gender', 'caption'],\n",
       "      dtype='object')"
      ]
     },
     "execution_count": 3,
     "metadata": {},
     "output_type": "execute_result"
    }
   ],
   "source": [
    "df.columns"
   ]
  },
  {
   "cell_type": "markdown",
   "id": "26e8df03-c2b2-45ab-949d-f491aa10c6ca",
   "metadata": {},
   "source": [
    "# Taking a Sample dataset to check #"
   ]
  },
  {
   "cell_type": "code",
   "execution_count": 4,
   "id": "b0ecfe53-094e-45fc-9087-4bb1c7bcca9d",
   "metadata": {},
   "outputs": [],
   "source": [
    "# del(df)"
   ]
  },
  {
   "cell_type": "code",
   "execution_count": 5,
   "id": "2a10a9f7-1fff-47a6-bab3-75749f66fb8c",
   "metadata": {
    "scrolled": true
   },
   "outputs": [
    {
     "data": {
      "text/html": [
       "<div>\n",
       "<style scoped>\n",
       "    .dataframe tbody tr th:only-of-type {\n",
       "        vertical-align: middle;\n",
       "    }\n",
       "\n",
       "    .dataframe tbody tr th {\n",
       "        vertical-align: top;\n",
       "    }\n",
       "\n",
       "    .dataframe thead th {\n",
       "        text-align: right;\n",
       "    }\n",
       "</style>\n",
       "<table border=\"1\" class=\"dataframe\">\n",
       "  <thead>\n",
       "    <tr style=\"text-align: right;\">\n",
       "      <th></th>\n",
       "      <th>article_id</th>\n",
       "      <th>caption</th>\n",
       "    </tr>\n",
       "  </thead>\n",
       "  <tbody>\n",
       "    <tr>\n",
       "      <th>0</th>\n",
       "      <td>108775015</td>\n",
       "      <td>womens Solid Black Vest top, Jersey top with n...</td>\n",
       "    </tr>\n",
       "    <tr>\n",
       "      <th>1</th>\n",
       "      <td>108775044</td>\n",
       "      <td>womens Solid White Vest top, Jersey top with n...</td>\n",
       "    </tr>\n",
       "    <tr>\n",
       "      <th>2</th>\n",
       "      <td>108775051</td>\n",
       "      <td>womens Stripe Off White Vest top, Jersey top w...</td>\n",
       "    </tr>\n",
       "    <tr>\n",
       "      <th>3</th>\n",
       "      <td>111586001</td>\n",
       "      <td>womens Solid Black Leggings, Tights with built...</td>\n",
       "    </tr>\n",
       "  </tbody>\n",
       "</table>\n",
       "</div>"
      ],
      "text/plain": [
       "   article_id                                            caption\n",
       "0   108775015  womens Solid Black Vest top, Jersey top with n...\n",
       "1   108775044  womens Solid White Vest top, Jersey top with n...\n",
       "2   108775051  womens Stripe Off White Vest top, Jersey top w...\n",
       "3   111586001  womens Solid Black Leggings, Tights with built..."
      ]
     },
     "execution_count": 5,
     "metadata": {},
     "output_type": "execute_result"
    }
   ],
   "source": [
    "df = df.iloc[:,[0,-1]].copy()\n",
    "df.head(4)"
   ]
  },
  {
   "cell_type": "code",
   "execution_count": 6,
   "id": "b59bf858-f50e-4c4c-8e19-250dd02eb722",
   "metadata": {},
   "outputs": [],
   "source": [
    "df['article_id'] = df['article_id'].astype(str)\n",
    "df['article_id']=[\"0\"+x for x in df['article_id']]"
   ]
  },
  {
   "cell_type": "code",
   "execution_count": 7,
   "id": "94631970-b1c1-4592-a90a-98e770f596c6",
   "metadata": {},
   "outputs": [
    {
     "data": {
      "text/html": [
       "<div>\n",
       "<style scoped>\n",
       "    .dataframe tbody tr th:only-of-type {\n",
       "        vertical-align: middle;\n",
       "    }\n",
       "\n",
       "    .dataframe tbody tr th {\n",
       "        vertical-align: top;\n",
       "    }\n",
       "\n",
       "    .dataframe thead th {\n",
       "        text-align: right;\n",
       "    }\n",
       "</style>\n",
       "<table border=\"1\" class=\"dataframe\">\n",
       "  <thead>\n",
       "    <tr style=\"text-align: right;\">\n",
       "      <th></th>\n",
       "      <th>article_id</th>\n",
       "      <th>caption</th>\n",
       "    </tr>\n",
       "  </thead>\n",
       "  <tbody>\n",
       "    <tr>\n",
       "      <th>0</th>\n",
       "      <td>/Users/nikhilkudupudi/Projects - School &amp; Work...</td>\n",
       "      <td>womens Solid Black Vest top, Jersey top with n...</td>\n",
       "    </tr>\n",
       "    <tr>\n",
       "      <th>1</th>\n",
       "      <td>/Users/nikhilkudupudi/Projects - School &amp; Work...</td>\n",
       "      <td>womens Solid White Vest top, Jersey top with n...</td>\n",
       "    </tr>\n",
       "    <tr>\n",
       "      <th>2</th>\n",
       "      <td>/Users/nikhilkudupudi/Projects - School &amp; Work...</td>\n",
       "      <td>womens Stripe Off White Vest top, Jersey top w...</td>\n",
       "    </tr>\n",
       "    <tr>\n",
       "      <th>3</th>\n",
       "      <td>/Users/nikhilkudupudi/Projects - School &amp; Work...</td>\n",
       "      <td>womens Solid Black Leggings, Tights with built...</td>\n",
       "    </tr>\n",
       "    <tr>\n",
       "      <th>4</th>\n",
       "      <td>/Users/nikhilkudupudi/Projects - School &amp; Work...</td>\n",
       "      <td>womens Solid Dark Blue Top, Fitted top in soft...</td>\n",
       "    </tr>\n",
       "  </tbody>\n",
       "</table>\n",
       "</div>"
      ],
      "text/plain": [
       "                                          article_id  \\\n",
       "0  /Users/nikhilkudupudi/Projects - School & Work...   \n",
       "1  /Users/nikhilkudupudi/Projects - School & Work...   \n",
       "2  /Users/nikhilkudupudi/Projects - School & Work...   \n",
       "3  /Users/nikhilkudupudi/Projects - School & Work...   \n",
       "4  /Users/nikhilkudupudi/Projects - School & Work...   \n",
       "\n",
       "                                             caption  \n",
       "0  womens Solid Black Vest top, Jersey top with n...  \n",
       "1  womens Solid White Vest top, Jersey top with n...  \n",
       "2  womens Stripe Off White Vest top, Jersey top w...  \n",
       "3  womens Solid Black Leggings, Tights with built...  \n",
       "4  womens Solid Dark Blue Top, Fitted top in soft...  "
      ]
     },
     "execution_count": 7,
     "metadata": {},
     "output_type": "execute_result"
    }
   ],
   "source": [
    "df['article_id'] = df['article_id'].apply(lambda x : '/Users/nikhilkudupudi/Projects - School & Work/Capstone/SmartStyleHub/selected_images1/'+ x+'.jpg')\n",
    "df.head()"
   ]
  },
  {
   "cell_type": "code",
   "execution_count": 8,
   "id": "9414fac6-52a5-416b-86b6-c03d062eb0bd",
   "metadata": {
    "scrolled": true
   },
   "outputs": [
    {
     "data": {
      "text/html": [
       "<div>\n",
       "<style scoped>\n",
       "    .dataframe tbody tr th:only-of-type {\n",
       "        vertical-align: middle;\n",
       "    }\n",
       "\n",
       "    .dataframe tbody tr th {\n",
       "        vertical-align: top;\n",
       "    }\n",
       "\n",
       "    .dataframe thead th {\n",
       "        text-align: right;\n",
       "    }\n",
       "</style>\n",
       "<table border=\"1\" class=\"dataframe\">\n",
       "  <thead>\n",
       "    <tr style=\"text-align: right;\">\n",
       "      <th></th>\n",
       "      <th>article_id</th>\n",
       "      <th>caption</th>\n",
       "      <th>t_f</th>\n",
       "    </tr>\n",
       "  </thead>\n",
       "  <tbody>\n",
       "    <tr>\n",
       "      <th>0</th>\n",
       "      <td>/Users/nikhilkudupudi/Projects - School &amp; Work...</td>\n",
       "      <td>womens Solid Black Vest top, Jersey top with n...</td>\n",
       "      <td>True</td>\n",
       "    </tr>\n",
       "    <tr>\n",
       "      <th>1</th>\n",
       "      <td>/Users/nikhilkudupudi/Projects - School &amp; Work...</td>\n",
       "      <td>womens Solid White Vest top, Jersey top with n...</td>\n",
       "      <td>True</td>\n",
       "    </tr>\n",
       "    <tr>\n",
       "      <th>2</th>\n",
       "      <td>/Users/nikhilkudupudi/Projects - School &amp; Work...</td>\n",
       "      <td>womens Stripe Off White Vest top, Jersey top w...</td>\n",
       "      <td>True</td>\n",
       "    </tr>\n",
       "    <tr>\n",
       "      <th>3</th>\n",
       "      <td>/Users/nikhilkudupudi/Projects - School &amp; Work...</td>\n",
       "      <td>womens Solid Black Leggings, Tights with built...</td>\n",
       "      <td>True</td>\n",
       "    </tr>\n",
       "    <tr>\n",
       "      <th>4</th>\n",
       "      <td>/Users/nikhilkudupudi/Projects - School &amp; Work...</td>\n",
       "      <td>womens Solid Dark Blue Top, Fitted top in soft...</td>\n",
       "      <td>True</td>\n",
       "    </tr>\n",
       "    <tr>\n",
       "      <th>...</th>\n",
       "      <td>...</td>\n",
       "      <td>...</td>\n",
       "      <td>...</td>\n",
       "    </tr>\n",
       "    <tr>\n",
       "      <th>55327</th>\n",
       "      <td>/Users/nikhilkudupudi/Projects - School &amp; Work...</td>\n",
       "      <td>womens All over pattern Beige Dress, Fitted, c...</td>\n",
       "      <td>True</td>\n",
       "    </tr>\n",
       "    <tr>\n",
       "      <th>55328</th>\n",
       "      <td>/Users/nikhilkudupudi/Projects - School &amp; Work...</td>\n",
       "      <td>womens All over pattern Beige Top, Fitted top ...</td>\n",
       "      <td>True</td>\n",
       "    </tr>\n",
       "    <tr>\n",
       "      <th>55329</th>\n",
       "      <td>/Users/nikhilkudupudi/Projects - School &amp; Work...</td>\n",
       "      <td>womens Solid Black Vest top, Loose-fitting spo...</td>\n",
       "      <td>True</td>\n",
       "    </tr>\n",
       "    <tr>\n",
       "      <th>55330</th>\n",
       "      <td>/Users/nikhilkudupudi/Projects - School &amp; Work...</td>\n",
       "      <td>womens Solid Black Dress, Short, A-line dress ...</td>\n",
       "      <td>True</td>\n",
       "    </tr>\n",
       "    <tr>\n",
       "      <th>55331</th>\n",
       "      <td>/Users/nikhilkudupudi/Projects - School &amp; Work...</td>\n",
       "      <td>womens Solid Off White Dress, Calf-length dres...</td>\n",
       "      <td>True</td>\n",
       "    </tr>\n",
       "  </tbody>\n",
       "</table>\n",
       "<p>55332 rows × 3 columns</p>\n",
       "</div>"
      ],
      "text/plain": [
       "                                              article_id  \\\n",
       "0      /Users/nikhilkudupudi/Projects - School & Work...   \n",
       "1      /Users/nikhilkudupudi/Projects - School & Work...   \n",
       "2      /Users/nikhilkudupudi/Projects - School & Work...   \n",
       "3      /Users/nikhilkudupudi/Projects - School & Work...   \n",
       "4      /Users/nikhilkudupudi/Projects - School & Work...   \n",
       "...                                                  ...   \n",
       "55327  /Users/nikhilkudupudi/Projects - School & Work...   \n",
       "55328  /Users/nikhilkudupudi/Projects - School & Work...   \n",
       "55329  /Users/nikhilkudupudi/Projects - School & Work...   \n",
       "55330  /Users/nikhilkudupudi/Projects - School & Work...   \n",
       "55331  /Users/nikhilkudupudi/Projects - School & Work...   \n",
       "\n",
       "                                                 caption   t_f  \n",
       "0      womens Solid Black Vest top, Jersey top with n...  True  \n",
       "1      womens Solid White Vest top, Jersey top with n...  True  \n",
       "2      womens Stripe Off White Vest top, Jersey top w...  True  \n",
       "3      womens Solid Black Leggings, Tights with built...  True  \n",
       "4      womens Solid Dark Blue Top, Fitted top in soft...  True  \n",
       "...                                                  ...   ...  \n",
       "55327  womens All over pattern Beige Dress, Fitted, c...  True  \n",
       "55328  womens All over pattern Beige Top, Fitted top ...  True  \n",
       "55329  womens Solid Black Vest top, Loose-fitting spo...  True  \n",
       "55330  womens Solid Black Dress, Short, A-line dress ...  True  \n",
       "55331  womens Solid Off White Dress, Calf-length dres...  True  \n",
       "\n",
       "[55332 rows x 3 columns]"
      ]
     },
     "execution_count": 8,
     "metadata": {},
     "output_type": "execute_result"
    }
   ],
   "source": [
    "df['t_f'] = df['article_id'].apply(lambda x: True if os.path.isfile(x) else False)\n",
    "df"
   ]
  },
  {
   "cell_type": "code",
   "execution_count": 9,
   "id": "966bac15-b35b-4669-b10c-a7c080439da5",
   "metadata": {},
   "outputs": [
    {
     "data": {
      "text/plain": [
       "t_f\n",
       "True     55173\n",
       "False      159\n",
       "Name: count, dtype: int64"
      ]
     },
     "execution_count": 9,
     "metadata": {},
     "output_type": "execute_result"
    }
   ],
   "source": [
    "df['t_f'].value_counts()"
   ]
  },
  {
   "cell_type": "markdown",
   "id": "88f2e467-b4bc-4b47-9f49-927bcdd8dda9",
   "metadata": {},
   "source": [
    "    Removing the rows with false values"
   ]
  },
  {
   "cell_type": "code",
   "execution_count": 25,
   "id": "52976b8b-002b-4aa7-8947-22046d6885e4",
   "metadata": {},
   "outputs": [
    {
     "data": {
      "text/html": [
       "<div>\n",
       "<style scoped>\n",
       "    .dataframe tbody tr th:only-of-type {\n",
       "        vertical-align: middle;\n",
       "    }\n",
       "\n",
       "    .dataframe tbody tr th {\n",
       "        vertical-align: top;\n",
       "    }\n",
       "\n",
       "    .dataframe thead th {\n",
       "        text-align: right;\n",
       "    }\n",
       "</style>\n",
       "<table border=\"1\" class=\"dataframe\">\n",
       "  <thead>\n",
       "    <tr style=\"text-align: right;\">\n",
       "      <th></th>\n",
       "      <th>article_id</th>\n",
       "      <th>caption</th>\n",
       "      <th>t_f</th>\n",
       "    </tr>\n",
       "  </thead>\n",
       "  <tbody>\n",
       "    <tr>\n",
       "      <th>0</th>\n",
       "      <td>/Users/nikhilkudupudi/Projects - School &amp; Work...</td>\n",
       "      <td>womens Solid Black Vest top, Jersey top with n...</td>\n",
       "      <td>True</td>\n",
       "    </tr>\n",
       "    <tr>\n",
       "      <th>1</th>\n",
       "      <td>/Users/nikhilkudupudi/Projects - School &amp; Work...</td>\n",
       "      <td>womens Solid White Vest top, Jersey top with n...</td>\n",
       "      <td>True</td>\n",
       "    </tr>\n",
       "    <tr>\n",
       "      <th>2</th>\n",
       "      <td>/Users/nikhilkudupudi/Projects - School &amp; Work...</td>\n",
       "      <td>womens Stripe Off White Vest top, Jersey top w...</td>\n",
       "      <td>True</td>\n",
       "    </tr>\n",
       "    <tr>\n",
       "      <th>3</th>\n",
       "      <td>/Users/nikhilkudupudi/Projects - School &amp; Work...</td>\n",
       "      <td>womens Solid Black Leggings, Tights with built...</td>\n",
       "      <td>True</td>\n",
       "    </tr>\n",
       "    <tr>\n",
       "      <th>4</th>\n",
       "      <td>/Users/nikhilkudupudi/Projects - School &amp; Work...</td>\n",
       "      <td>womens Solid Dark Blue Top, Fitted top in soft...</td>\n",
       "      <td>True</td>\n",
       "    </tr>\n",
       "  </tbody>\n",
       "</table>\n",
       "</div>"
      ],
      "text/plain": [
       "                                          article_id  \\\n",
       "0  /Users/nikhilkudupudi/Projects - School & Work...   \n",
       "1  /Users/nikhilkudupudi/Projects - School & Work...   \n",
       "2  /Users/nikhilkudupudi/Projects - School & Work...   \n",
       "3  /Users/nikhilkudupudi/Projects - School & Work...   \n",
       "4  /Users/nikhilkudupudi/Projects - School & Work...   \n",
       "\n",
       "                                             caption   t_f  \n",
       "0  womens Solid Black Vest top, Jersey top with n...  True  \n",
       "1  womens Solid White Vest top, Jersey top with n...  True  \n",
       "2  womens Stripe Off White Vest top, Jersey top w...  True  \n",
       "3  womens Solid Black Leggings, Tights with built...  True  \n",
       "4  womens Solid Dark Blue Top, Fitted top in soft...  True  "
      ]
     },
     "execution_count": 25,
     "metadata": {},
     "output_type": "execute_result"
    }
   ],
   "source": [
    "keep_indx = list(df.loc[df['t_f'] == True].index)\n",
    "df = df.iloc[keep_indx,:].reset_index(drop = True)\n",
    "df.head()"
   ]
  },
  {
   "cell_type": "markdown",
   "id": "eb2158a6-b8a1-4e35-a041-31f591c33fa6",
   "metadata": {},
   "source": [
    "## Text and Image Embedding"
   ]
  },
  {
   "cell_type": "code",
   "execution_count": 26,
   "id": "bd358945-13a3-4f5a-af88-97b08b4a342b",
   "metadata": {},
   "outputs": [],
   "source": [
    "import os\n",
    "from PIL import Image\n",
    "import numpy as np\n",
    "import os\n",
    "\n",
    "import torch\n",
    "import torch.nn as nn\n",
    "from torch.utils.data import DataLoader\n",
    "from tqdm import tqdm"
   ]
  },
  {
   "cell_type": "code",
   "execution_count": 27,
   "id": "c4f23387-9860-490b-bfa2-4adbb86b4d1e",
   "metadata": {
    "scrolled": true
   },
   "outputs": [
    {
     "name": "stderr",
     "output_type": "stream",
     "text": [
      "/Users/nikhilkudupudi/anaconda3/envs/pytorch_env/lib/python3.11/site-packages/torch/_utils.py:831: UserWarning: TypedStorage is deprecated. It will be removed in the future and UntypedStorage will be the only storage class. This should only matter to you if you are using storages directly.  To access UntypedStorage directly, use tensor.untyped_storage() instead of tensor.storage()\n",
      "  return self.fget.__get__(instance, owner)()\n"
     ]
    }
   ],
   "source": [
    "device = 'mps' if torch.backends.mps.is_available() else 'cpu'\n",
    "\n",
    "model = CLIPModel.from_pretrained(\"openai/clip-vit-base-patch32\").to(device)\n",
    "processor = CLIPProcessor.from_pretrained(\"openai/clip-vit-base-patch32\")\n",
    "tokenizer = CLIPTokenizer.from_pretrained(\"openai/clip-vit-base-patch32\")"
   ]
  },
  {
   "cell_type": "code",
   "execution_count": 73,
   "id": "eb2b4d92-78a4-4059-bce0-bf712863e2d9",
   "metadata": {},
   "outputs": [],
   "source": [
    "class image_title_dataset():\n",
    "    def __init__(self, text_paths, list_image_path):\n",
    "        self.text_paths = text_paths\n",
    "        self.list_image_path = list_image_path\n",
    "\n",
    "    def __len__(self):\n",
    "        return len(self.text_paths)\n",
    "\n",
    "    def __getitem__(self, idx):\n",
    "        return self.list_image_path[idx], self.text_paths[idx]"
   ]
  },
  {
   "cell_type": "code",
   "execution_count": 29,
   "id": "8618a7ce-9383-4eab-9aec-3c5400f02daa",
   "metadata": {},
   "outputs": [],
   "source": [
    "from sklearn.model_selection import train_test_split"
   ]
  },
  {
   "cell_type": "code",
   "execution_count": 43,
   "id": "6e9cebf1-731c-4c67-8070-75bf14378c94",
   "metadata": {},
   "outputs": [],
   "source": [
    "train,test = train_test_split(df, test_size=0.2, random_state= 42)\n",
    "train.reset_index(inplace= True,drop= True)\n",
    "test.reset_index(inplace= True,drop= True)"
   ]
  },
  {
   "cell_type": "code",
   "execution_count": 32,
   "id": "61506a35-6dd9-42b7-a3dd-aa08e2cc8c60",
   "metadata": {},
   "outputs": [
    {
     "name": "stdout",
     "output_type": "stream",
     "text": [
      "44138\n",
      "11035\n"
     ]
    }
   ],
   "source": [
    "print(len(train))\n",
    "print(len(test))"
   ]
  },
  {
   "cell_type": "code",
   "execution_count": 89,
   "id": "4a9731d0-d697-4ade-aae9-1e1859858329",
   "metadata": {},
   "outputs": [],
   "source": [
    "train_dataloader = DataLoader(image_title_dataset(train['caption'],train['article_id']), batch_size = 32, shuffle= True)\n",
    "val_dataloader = DataLoader(image_title_dataset(train['caption'],test['article_id']), batch_size= 32,shuffle= True)"
   ]
  },
  {
   "cell_type": "code",
   "execution_count": 75,
   "id": "351a28ed-4a8e-46ef-ba1c-89319a3a6c81",
   "metadata": {
    "scrolled": true
   },
   "outputs": [
    {
     "name": "stdout",
     "output_type": "stream",
     "text": [
      "32\n",
      "<class 'tuple'>\n",
      "('mens Melange Dark Grey Sweater, Jumper in a soft, fine cotton knit with a round neck, long sleeves and ribbing at the cuffs and hem.', 'mens Solid White Shirt, Shirt in a premium cotton weave with a grandad collar with a tab at the front, French front and yoke at the back. Long sleeves with adjustable buttoning at the cuffs, and a rounded hem. Regular fit – a classic fit with good room for movement and a gently tapered waist to create a comfortable, tailored silhouette.', ' Solid Dark Blue Trousers, High-waisted jeans in washed superstretch denim with a zip fly and button, fake front pockets, real back pockets and super-skinny legs.', 'womens Embroidery Dark Blue Skirt, Short skirt in a cotton weave. Regular waist with elasticated smocking, and a seam at the hem with a wide broderie anglaise flounce. Lined.', 'womens Solid Black Trousers, Joggers in soft jersey with wide elastication at the waist, side pockets and tapered legs.', 'womens All over pattern Black Skirt, Short skirt in sturdy, patterned satin with a high waist, pleats at the top, a visible zip at the back and side pockets. Unlined.', 'mens Check Red Trousers, 5-pocket trousers in stretch cotton twill with a regular waist, zip fly and skinny legs.', 'mens Check Grey Shirt, Shirt in soft, checked cotton flannel with a turn-down collar, classic front, two open chest pockets and a yoke at the back. Long sleeves with adjustable buttoning at the cuffs, and a rounded hem.', 'womens Solid Dark Yellow Dress, STUDIO COLLECTION. Short dress in sturdy cotton jersey in a boxy fit with seam details at the top, dropped shoulders and short sleeves. Narrow, elasticated seam at the waist, sewn-on gently draped panels that create a wrapover, and a straight-cut skirt. Unlined.', 'womens Solid Black Skirt, Short dungaree dress in imitation suede with adjustable straps and a zip at the front. Lined at the top.', 'mens Denim Black Shorts, 5-pocket shorts in cotton denim in a relaxed fit with a regular waist, button fly, low crotch and straight, wide legs.', 'womens Solid Dark Orange Dress, Calf-length dress in soft viscose jersey with a deep, wrapover V-neck at the back, short sleeves, an elasticated seam at the waist and slits in the sides. Unlined.', 'womens Solid Beige Coat, Coat in a felted wool blend with notch lapels, dropped shoulders and wide, gently tapered sleeves. Detachable tie belt at the waist, large patch front pockets and a single back vent. Unlined.', 'womens Glittering/Metallic Black Top, Blouse in a shimmering patterned weave with an opening and button at the back of the neck and short, flounced sleeves in a double layer.', 'mens Solid Yellow T-shirt, Straight-cut jersey T-shirt in a relaxed fit with a round neck.', 'womens Solid Black Swimwear bottom, Fully lined bikini bottoms with a high waist and draping at the front.', ' Solid Blue Trousers, 5-pocket, ankle-length jeans in washed cotton denim with a high waist, zip fly and button and straight legs.', 'womens Solid Dark Blue Bikini top, Bikini top with a lined, shaped front, wide shoulder straps and wide elastication at the hem. Wide metal fastening at the back.', 'womens Solid Dark Blue Blouse, Tunic in soft jersey with a round neck, short dolman sleeves, a narrow adjustable tie belt under the bust, and a rounded hem.', 'womens Solid Black Vest top, Satin top in a relaxed fit with a lace section at the top and narrow, adjustable shoulder straps.', 'womens Solid Black Dress, Short dress in a viscose weave with a visible seam centre back, long sleeves with a zip at the cuffs, and a rounded hem.', 'womens Solid Greenish Khaki Shorts, Cycling shorts in ribbed, fast-drying functional fabric designed with the minimum number of seams for a more comfortable fit and increased mobility. High waist with a wide waist panel.', 'womens Solid Black Swimwear bottom, Fully lined, waist-high bikini bottoms in fast-drying functional fabric with medium coverage at the back.', ' Melange Grey Dress, Short, fitted, sleeveless dress in soft jersey.', 'womens Solid Black Blazer, Fitted jacket in woven fabric with a concealed hook-and-eye fastening at the front, flap front pockets and gathered 3/4-length sleeves. Lined.', 'mens Solid Light Orange Sweater, Jumper in a soft, textured knit with a roll-edge neckline, long sleeves and a rounded hem with slits in the sides. Slightly longer at the back.', ' Solid Greenish Khaki Dress, Maxi dress in softly draping viscose jersey with narrow, tie-top shoulder straps. Unlined.', ' Solid Light Yellow Shorts, Shorts in stretch cotton twill with a high waist, zip fly and button, back pockets, and short slits in the sides.', 'womens Lace Dark Blue Dress, Fitted, knee-length dress in lace with cap sleeves and a concealed zip at the back. Lined.', 'womens Solid Orange Trousers, Tailored trousers in a slightly stretchy weave with a regular waist and zip fly with a concealed hook-and-eye fastener. Side pockets, fake back pockets and straight legs with creases.', ' Solid Light Turquoise Shorts, Satin shorts with an elasticated drawstring waist, side pockets and frill-trimmed hems.', 'womens Solid Pink T-shirt, Relaxed-fit top in soft velour with a round neck and short sleeves.')\n",
      "\n",
      "\n",
      "mens Melange Dark Grey Sweater, Jumper in a soft, fine cotton knit with a round neck, long sleeves and ribbing at the cuffs and hem.\n"
     ]
    }
   ],
   "source": [
    "i =0\n",
    "for batch in train_dataloader:\n",
    "    if i ==0:\n",
    "        img, txt = batch\n",
    "        print(len(txt))\n",
    "        print(type(txt))\n",
    "        print(txt)\n",
    "        print('\\n')\n",
    "        print(txt[0])\n",
    "        break "
   ]
  },
  {
   "cell_type": "code",
   "execution_count": 49,
   "id": "ae8e5b1c-400b-46be-a40b-3e78f92deb05",
   "metadata": {},
   "outputs": [],
   "source": [
    "def convert_models_to_fp32(model): \n",
    "    for p in model.parameters(): \n",
    "        p.data = p.data.float() \n",
    "        p.grad.data = p.grad.data.float() "
   ]
  },
  {
   "cell_type": "code",
   "execution_count": 33,
   "id": "ddd0c3b4-0035-41c7-af2a-b01578c047ea",
   "metadata": {
    "scrolled": true
   },
   "outputs": [],
   "source": [
    "# !pip install clip\n",
    "import clip "
   ]
  },
  {
   "cell_type": "code",
   "execution_count": 92,
   "id": "8215304a-a315-4a7b-92ff-111648a2f6eb",
   "metadata": {},
   "outputs": [],
   "source": [
    "optimizer = torch.optim.Adam(model.parameters(), lr=5e-5,betas=(0.9,0.98),eps=1e-6,weight_decay=0.2)\n",
    "loss_img = nn.CrossEntropyLoss()\n",
    "loss_txt = nn.CrossEntropyLoss()\n",
    "\n",
    "num_epochs = 10\n",
    "for epoch in range(num_epochs):\n",
    "    pbar = tqdm(train_dataloader, total=len(train_dataloader))\n",
    "    for batch in pbar:\n",
    "        optimizer.zero_grad()\n",
    "\n",
    "        images,cap_texts = batch \n",
    "        images = [Image.open(img_path) for img_path in images]\n",
    "        texts = [caption for caption in cap_texts]\n",
    "\n",
    "        # texts = list(texts)\n",
    "        # print(f\"Type of texts: {type(texts)}\")\n",
    "        # if isinstance(texts, list):\n",
    "        #     print(f\"First element type in texts: {type(texts[0]) if texts else 'Empty list'}\")\n",
    "        # print(f\"Type of images: {type(images)}\")\n",
    "        # if isinstance(images, list):\n",
    "        #     print(f\"First element type in images: {type(images[0]) if images else 'Empty list'}\")\n",
    "\n",
    "        # print(type(texts))\n",
    "        \n",
    "        inputs = processor(text=texts, images=images, return_tensors=\"pt\", padding=True, truncation= True, max_length = 77)\n",
    "        inputs = {key: value.to(device) for key, value in inputs.items()}\n",
    "        \n",
    "        # Forward pass\n",
    "        outputs = model(**inputs)\n",
    "        logits_per_image, logits_per_text = outputs.logits_per_image, outputs.logits_per_text\n",
    "        \n",
    "        # Compute loss\n",
    "        ground_truth = torch.arange(len(images),dtype=torch.long,device=device)\n",
    "        total_loss = (loss_img(logits_per_image,ground_truth) + loss_txt(logits_per_text,ground_truth))/2\n",
    "        logits_per_image, logits_per_text = outputs.logits_per_image, outputs.logits_per_text\n",
    "        \n",
    "        # Backward pass\n",
    "        total_loss.backward()\n",
    "        if device == \"cpu\":\n",
    "            optimizer.step()\n",
    "        else : \n",
    "            convert_models_to_fp32(model)\n",
    "            optimizer.step()\n",
    "\n",
    "        \n",
    "        pbar.set_description(f\"Epoch {epoch}/{num_epochs}, Loss: {total_loss.item():.4f}\")\n",
    "\n",
    "    # Validation phase\n",
    "    model.eval()  # Set model to evaluation mode\n",
    "    total_val_loss = 0\n",
    "    with torch.no_grad():  # No gradients needed for validation\n",
    "        for batch in val_dataloader:\n",
    "            images, cap_texts = batch\n",
    "            images = [Image.open(img_path) for img_path in images]\n",
    "            texts = [caption for caption in cap_texts]\n",
    "            inputs = processor(text=texts, images=images, return_tensors=\"pt\", padding=True, truncation= True, max_length = 77)\n",
    "            inputs = {key: value.to(device) for key, value in inputs.items()}\n",
    "\n",
    "            outputs = model(**inputs)\n",
    "            logits_per_image, logits_per_text = outputs.logits_per_image, outputs.logits_per_text\n",
    "\n",
    "            ground_truth = torch.arange(len(images), dtype=torch.long, device=device)\n",
    "            val_loss = (loss_img(logits_per_image, ground_truth) + loss_txt(logits_per_text, ground_truth)) / 2\n",
    "            total_val_loss += val_loss.item()\n",
    "\n",
    "    avg_val_loss = total_val_loss / len(val_dataloader)\n",
    "    print(f\"Epoch {epoch}/{num_epochs}, Validation Loss: {avg_val_loss:.4f}\")\n"
   ]
  },
  {
   "cell_type": "code",
   "execution_count": 78,
   "id": "97180de0-4e7d-4b20-8ba0-3b8cdaecaaa8",
   "metadata": {},
   "outputs": [
    {
     "name": "stdout",
     "output_type": "stream",
     "text": [
      "0\n"
     ]
    }
   ],
   "source": [
    "for indx,batch in enumerate(train_dataloader):\n",
    "    print(indx)\n",
    "    img, txt = batch\n",
    "    if indx == 0:\n",
    "        break "
   ]
  },
  {
   "cell_type": "code",
   "execution_count": 85,
   "id": "05bf509f-39bc-4f6a-9fe9-5c60d54a6460",
   "metadata": {},
   "outputs": [
    {
     "data": {
      "text/plain": [
       "'/Users/nikhilkudupudi/Projects - School & Work/Capstone/SmartStyleHub/selected_images1/0905781001.jpg'"
      ]
     },
     "execution_count": 85,
     "metadata": {},
     "output_type": "execute_result"
    }
   ],
   "source": [
    "img[15]"
   ]
  },
  {
   "cell_type": "code",
   "execution_count": 82,
   "id": "c94267c3-cc93-4f5c-8768-496499365c75",
   "metadata": {},
   "outputs": [
    {
     "data": {
      "text/plain": [
       "'mens Stripe Grey Shorts, Shorts in sweatshirt fabric with a print motif. Elasticated drawstring waist, side pockets, a back pocket and a low crotch.'"
      ]
     },
     "execution_count": 82,
     "metadata": {},
     "output_type": "execute_result"
    }
   ],
   "source": [
    "txt[14]"
   ]
  },
  {
   "cell_type": "markdown",
   "id": "d6076103-4048-4275-bd55-577e4e6b22f6",
   "metadata": {},
   "source": [
    "# testing "
   ]
  },
  {
   "cell_type": "code",
   "execution_count": null,
   "id": "09ea1c9b-12c3-4992-aa47-3b05d408ca73",
   "metadata": {},
   "outputs": [],
   "source": []
  }
 ],
 "metadata": {
  "kernelspec": {
   "display_name": "Python [conda env:pytorch_env]",
   "language": "python",
   "name": "conda-env-pytorch_env-py"
  },
  "language_info": {
   "codemirror_mode": {
    "name": "ipython",
    "version": 3
   },
   "file_extension": ".py",
   "mimetype": "text/x-python",
   "name": "python",
   "nbconvert_exporter": "python",
   "pygments_lexer": "ipython3",
   "version": "3.11.7"
  }
 },
 "nbformat": 4,
 "nbformat_minor": 5
}

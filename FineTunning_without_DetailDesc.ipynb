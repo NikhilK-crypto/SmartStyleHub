{
 "cells": [
  {
   "cell_type": "markdown",
   "id": "fb284773-6b38-4032-a715-537218fd768f",
   "metadata": {},
   "source": [
    "# **First Approch** \n",
    "\n",
    "    Note - Our first approch is to use caption that had - gender + graphical appearance + product name + deatil description of the product. Whoever this didn't gave us satisfactory results. Below is the code of the same. "
   ]
  },
  {
   "cell_type": "markdown",
   "id": "4c78288d-62a8-47af-9576-3f72b119ad23",
   "metadata": {},
   "source": [
    "# Start of the code"
   ]
  },
  {
   "cell_type": "code",
   "execution_count": 1,
   "id": "395600a4",
   "metadata": {},
   "outputs": [],
   "source": [
    "# importing libraries \n",
    "import pandas as pd \n",
    "import numpy as np # importing libraries \n",
    "import torch\n",
    "from transformers import CLIPProcessor, CLIPModel, CLIPTokenizer\n",
    "import matplotlib.pyplot as plt \n",
    "import os "
   ]
  },
  {
   "cell_type": "code",
   "execution_count": 2,
   "id": "8d70e40d",
   "metadata": {
    "scrolled": true
   },
   "outputs": [
    {
     "name": "stdout",
     "output_type": "stream",
     "text": [
      "True\n"
     ]
    }
   ],
   "source": [
    "print(torch.cuda.is_available())"
   ]
  },
  {
   "cell_type": "code",
   "execution_count": 3,
   "id": "6c9045dd",
   "metadata": {
    "scrolled": true
   },
   "outputs": [
    {
     "data": {
      "text/html": [
       "<div>\n",
       "<style scoped>\n",
       "    .dataframe tbody tr th:only-of-type {\n",
       "        vertical-align: middle;\n",
       "    }\n",
       "\n",
       "    .dataframe tbody tr th {\n",
       "        vertical-align: top;\n",
       "    }\n",
       "\n",
       "    .dataframe thead th {\n",
       "        text-align: right;\n",
       "    }\n",
       "</style>\n",
       "<table border=\"1\" class=\"dataframe\">\n",
       "  <thead>\n",
       "    <tr style=\"text-align: right;\">\n",
       "      <th></th>\n",
       "      <th>article_id</th>\n",
       "      <th>prod_name</th>\n",
       "      <th>product_type_name</th>\n",
       "      <th>product_group_name</th>\n",
       "      <th>graphical_appearance_name</th>\n",
       "      <th>colour_group_name</th>\n",
       "      <th>department_name</th>\n",
       "      <th>index_name</th>\n",
       "      <th>index_group_name</th>\n",
       "      <th>section_name</th>\n",
       "      <th>garment_group_name</th>\n",
       "      <th>detail_desc</th>\n",
       "      <th>gender</th>\n",
       "      <th>caption</th>\n",
       "    </tr>\n",
       "  </thead>\n",
       "  <tbody>\n",
       "    <tr>\n",
       "      <th>0</th>\n",
       "      <td>108775015</td>\n",
       "      <td>Strap top</td>\n",
       "      <td>Vest top</td>\n",
       "      <td>Garment Upper body</td>\n",
       "      <td>Solid</td>\n",
       "      <td>Black</td>\n",
       "      <td>Jersey Basic</td>\n",
       "      <td>Ladieswear</td>\n",
       "      <td>Ladieswear</td>\n",
       "      <td>Womens Everyday Basics</td>\n",
       "      <td>Jersey Basic</td>\n",
       "      <td>Jersey top with narrow shoulder straps.</td>\n",
       "      <td>womens</td>\n",
       "      <td>womens Solid Black Vest top, Jersey top with n...</td>\n",
       "    </tr>\n",
       "    <tr>\n",
       "      <th>1</th>\n",
       "      <td>108775044</td>\n",
       "      <td>Strap top</td>\n",
       "      <td>Vest top</td>\n",
       "      <td>Garment Upper body</td>\n",
       "      <td>Solid</td>\n",
       "      <td>White</td>\n",
       "      <td>Jersey Basic</td>\n",
       "      <td>Ladieswear</td>\n",
       "      <td>Ladieswear</td>\n",
       "      <td>Womens Everyday Basics</td>\n",
       "      <td>Jersey Basic</td>\n",
       "      <td>Jersey top with narrow shoulder straps.</td>\n",
       "      <td>womens</td>\n",
       "      <td>womens Solid White Vest top, Jersey top with n...</td>\n",
       "    </tr>\n",
       "    <tr>\n",
       "      <th>2</th>\n",
       "      <td>108775051</td>\n",
       "      <td>Strap top (1)</td>\n",
       "      <td>Vest top</td>\n",
       "      <td>Garment Upper body</td>\n",
       "      <td>Stripe</td>\n",
       "      <td>Off White</td>\n",
       "      <td>Jersey Basic</td>\n",
       "      <td>Ladieswear</td>\n",
       "      <td>Ladieswear</td>\n",
       "      <td>Womens Everyday Basics</td>\n",
       "      <td>Jersey Basic</td>\n",
       "      <td>Jersey top with narrow shoulder straps.</td>\n",
       "      <td>womens</td>\n",
       "      <td>womens Stripe Off White Vest top, Jersey top w...</td>\n",
       "    </tr>\n",
       "    <tr>\n",
       "      <th>3</th>\n",
       "      <td>111586001</td>\n",
       "      <td>Shape Up 30 den 1p Tights</td>\n",
       "      <td>Leggings</td>\n",
       "      <td>Garment Lower body</td>\n",
       "      <td>Solid</td>\n",
       "      <td>Black</td>\n",
       "      <td>Tights basic</td>\n",
       "      <td>Lingeries/Tights</td>\n",
       "      <td>Ladieswear</td>\n",
       "      <td>Womens Nightwear, Socks &amp; Tigh</td>\n",
       "      <td>Socks and Tights</td>\n",
       "      <td>Tights with built-in support to lift the botto...</td>\n",
       "      <td>womens</td>\n",
       "      <td>womens Solid Black Leggings, Tights with built...</td>\n",
       "    </tr>\n",
       "    <tr>\n",
       "      <th>4</th>\n",
       "      <td>116379047</td>\n",
       "      <td>Frugan longsleeve</td>\n",
       "      <td>Top</td>\n",
       "      <td>Garment Upper body</td>\n",
       "      <td>Solid</td>\n",
       "      <td>Dark Blue</td>\n",
       "      <td>Jersey Basic</td>\n",
       "      <td>Ladieswear</td>\n",
       "      <td>Ladieswear</td>\n",
       "      <td>Womens Everyday Basics</td>\n",
       "      <td>Jersey Basic</td>\n",
       "      <td>Fitted top in soft stretch jersey with a wide ...</td>\n",
       "      <td>womens</td>\n",
       "      <td>womens Solid Dark Blue Top, Fitted top in soft...</td>\n",
       "    </tr>\n",
       "  </tbody>\n",
       "</table>\n",
       "</div>"
      ],
      "text/plain": [
       "   article_id                  prod_name product_type_name  \\\n",
       "0   108775015                  Strap top          Vest top   \n",
       "1   108775044                  Strap top          Vest top   \n",
       "2   108775051              Strap top (1)          Vest top   \n",
       "3   111586001  Shape Up 30 den 1p Tights          Leggings   \n",
       "4   116379047          Frugan longsleeve               Top   \n",
       "\n",
       "   product_group_name graphical_appearance_name colour_group_name  \\\n",
       "0  Garment Upper body                     Solid             Black   \n",
       "1  Garment Upper body                     Solid             White   \n",
       "2  Garment Upper body                    Stripe         Off White   \n",
       "3  Garment Lower body                     Solid             Black   \n",
       "4  Garment Upper body                     Solid         Dark Blue   \n",
       "\n",
       "  department_name        index_name index_group_name  \\\n",
       "0    Jersey Basic        Ladieswear       Ladieswear   \n",
       "1    Jersey Basic        Ladieswear       Ladieswear   \n",
       "2    Jersey Basic        Ladieswear       Ladieswear   \n",
       "3    Tights basic  Lingeries/Tights       Ladieswear   \n",
       "4    Jersey Basic        Ladieswear       Ladieswear   \n",
       "\n",
       "                     section_name garment_group_name  \\\n",
       "0          Womens Everyday Basics       Jersey Basic   \n",
       "1          Womens Everyday Basics       Jersey Basic   \n",
       "2          Womens Everyday Basics       Jersey Basic   \n",
       "3  Womens Nightwear, Socks & Tigh   Socks and Tights   \n",
       "4          Womens Everyday Basics       Jersey Basic   \n",
       "\n",
       "                                         detail_desc  gender  \\\n",
       "0            Jersey top with narrow shoulder straps.  womens   \n",
       "1            Jersey top with narrow shoulder straps.  womens   \n",
       "2            Jersey top with narrow shoulder straps.  womens   \n",
       "3  Tights with built-in support to lift the botto...  womens   \n",
       "4  Fitted top in soft stretch jersey with a wide ...  womens   \n",
       "\n",
       "                                             caption  \n",
       "0  womens Solid Black Vest top, Jersey top with n...  \n",
       "1  womens Solid White Vest top, Jersey top with n...  \n",
       "2  womens Stripe Off White Vest top, Jersey top w...  \n",
       "3  womens Solid Black Leggings, Tights with built...  \n",
       "4  womens Solid Dark Blue Top, Fitted top in soft...  "
      ]
     },
     "execution_count": 3,
     "metadata": {},
     "output_type": "execute_result"
    }
   ],
   "source": [
    "df = pd.read_csv('selected_articles.csv')\n",
    "df.drop(columns=['Unnamed: 0'],inplace=True,axis=1)\n",
    "df.head()"
   ]
  },
  {
   "cell_type": "code",
   "execution_count": 4,
   "id": "ecc4b3fb",
   "metadata": {
    "scrolled": true
   },
   "outputs": [
    {
     "data": {
      "text/plain": [
       "Index(['article_id', 'prod_name', 'product_type_name', 'product_group_name',\n",
       "       'graphical_appearance_name', 'colour_group_name', 'department_name',\n",
       "       'index_name', 'index_group_name', 'section_name', 'garment_group_name',\n",
       "       'detail_desc', 'gender', 'caption'],\n",
       "      dtype='object')"
      ]
     },
     "execution_count": 4,
     "metadata": {},
     "output_type": "execute_result"
    }
   ],
   "source": [
    "df.columns"
   ]
  },
  {
   "cell_type": "markdown",
   "id": "096d8dbd",
   "metadata": {},
   "source": [
    "# Loading Dataset and dropping incomplete rows"
   ]
  },
  {
   "cell_type": "code",
   "execution_count": 6,
   "id": "2fbbad97",
   "metadata": {
    "scrolled": true
   },
   "outputs": [
    {
     "data": {
      "text/html": [
       "<div>\n",
       "<style scoped>\n",
       "    .dataframe tbody tr th:only-of-type {\n",
       "        vertical-align: middle;\n",
       "    }\n",
       "\n",
       "    .dataframe tbody tr th {\n",
       "        vertical-align: top;\n",
       "    }\n",
       "\n",
       "    .dataframe thead th {\n",
       "        text-align: right;\n",
       "    }\n",
       "</style>\n",
       "<table border=\"1\" class=\"dataframe\">\n",
       "  <thead>\n",
       "    <tr style=\"text-align: right;\">\n",
       "      <th></th>\n",
       "      <th>article_id</th>\n",
       "      <th>caption</th>\n",
       "    </tr>\n",
       "  </thead>\n",
       "  <tbody>\n",
       "    <tr>\n",
       "      <th>0</th>\n",
       "      <td>108775015</td>\n",
       "      <td>womens Solid Black Vest top, Jersey top with n...</td>\n",
       "    </tr>\n",
       "    <tr>\n",
       "      <th>1</th>\n",
       "      <td>108775044</td>\n",
       "      <td>womens Solid White Vest top, Jersey top with n...</td>\n",
       "    </tr>\n",
       "    <tr>\n",
       "      <th>2</th>\n",
       "      <td>108775051</td>\n",
       "      <td>womens Stripe Off White Vest top, Jersey top w...</td>\n",
       "    </tr>\n",
       "    <tr>\n",
       "      <th>3</th>\n",
       "      <td>111586001</td>\n",
       "      <td>womens Solid Black Leggings, Tights with built...</td>\n",
       "    </tr>\n",
       "  </tbody>\n",
       "</table>\n",
       "</div>"
      ],
      "text/plain": [
       "   article_id                                            caption\n",
       "0   108775015  womens Solid Black Vest top, Jersey top with n...\n",
       "1   108775044  womens Solid White Vest top, Jersey top with n...\n",
       "2   108775051  womens Stripe Off White Vest top, Jersey top w...\n",
       "3   111586001  womens Solid Black Leggings, Tights with built..."
      ]
     },
     "execution_count": 6,
     "metadata": {},
     "output_type": "execute_result"
    }
   ],
   "source": [
    "df = df.iloc[:,[0,-1]].copy()\n",
    "df.head(4)"
   ]
  },
  {
   "cell_type": "code",
   "execution_count": 7,
   "id": "cbde9e39-b010-48c5-b8d1-e78a3d41302c",
   "metadata": {},
   "outputs": [
    {
     "name": "stdout",
     "output_type": "stream",
     "text": [
      "266\n",
      "0\n"
     ]
    }
   ],
   "source": [
    "#dropping null values\n",
    "print(df['caption'].isna().sum() )\n",
    "\n",
    "df.dropna(inplace = True)\n",
    "df.reset_index(drop = True,inplace = True)\n",
    "\n",
    "print(df['caption'].isna().sum())"
   ]
  },
  {
   "cell_type": "markdown",
   "id": "b834d54e-e866-4a1b-a18e-074bb0a69337",
   "metadata": {},
   "source": [
    "## Generating Word Length Column"
   ]
  },
  {
   "cell_type": "code",
   "execution_count": 8,
   "id": "44f6e030-0599-47f9-a54d-c4ca99ca1ce1",
   "metadata": {},
   "outputs": [],
   "source": [
    "df['cap_length'] = df['caption'].apply(lambda x: len(x.split(' ')))"
   ]
  },
  {
   "cell_type": "markdown",
   "id": "5874e30e-78db-4436-ba50-789db7e67514",
   "metadata": {},
   "source": [
    "**Droping those rows whose value is more than 55** \n",
    "    \n",
    "    The clip model takes only 77 tokens and rest is truncated. So instead of passing half data to the model(captions with tokens greater than 77) we will drop those rows whose caption length is greater than 55. \n",
    "    \n",
    "    So Roughly we'll lose around 2.5k images"
   ]
  },
  {
   "cell_type": "code",
   "execution_count": 9,
   "id": "c1b5496b-2fbb-4ed2-9337-8f48c1c5903c",
   "metadata": {},
   "outputs": [
    {
     "name": "stdout",
     "output_type": "stream",
     "text": [
      "55066\n",
      "52744\n"
     ]
    }
   ],
   "source": [
    "print(len(df))\n",
    "df = df.loc[df['cap_length']<55].reset_index(drop = True)\n",
    "print(len(df))"
   ]
  },
  {
   "cell_type": "code",
   "execution_count": 10,
   "id": "cbf645ae",
   "metadata": {},
   "outputs": [],
   "source": [
    "df['article_id'] = df['article_id'].astype(str)\n",
    "df['article_id']=[\"0\"+x for x in df['article_id']]"
   ]
  },
  {
   "cell_type": "code",
   "execution_count": 11,
   "id": "53e1f65d-8c34-429b-ba3a-40597f2a4775",
   "metadata": {
    "scrolled": true
   },
   "outputs": [
    {
     "data": {
      "text/plain": [
       "'/home/kudupudi.n'"
      ]
     },
     "execution_count": 11,
     "metadata": {},
     "output_type": "execute_result"
    }
   ],
   "source": [
    "os.getcwd()"
   ]
  },
  {
   "cell_type": "code",
   "execution_count": 12,
   "id": "2c82dd82-edfa-4fde-a3a3-0c81ac4fa5bd",
   "metadata": {
    "scrolled": true
   },
   "outputs": [
    {
     "data": {
      "text/plain": [
       "['.bash_history',\n",
       " '.bash_logout',\n",
       " '.bash_profile',\n",
       " '.bashrc',\n",
       " '.cache',\n",
       " '.conda',\n",
       " '.config',\n",
       " '.emacs',\n",
       " '.ipynb_checkpoints',\n",
       " '.ipython',\n",
       " '.jupyter',\n",
       " '.kshrc',\n",
       " '.local',\n",
       " '.nv',\n",
       " 'CLIP finetuning with example dataset.ipynb',\n",
       " 'CLIP_Tuning.ipynb',\n",
       " 'CLIP_finetuning_nikhil.ipynb',\n",
       " 'images',\n",
       " 'model_checkpoint',\n",
       " 'ondemand',\n",
       " 'selected_articles.csv']"
      ]
     },
     "execution_count": 12,
     "metadata": {},
     "output_type": "execute_result"
    }
   ],
   "source": [
    "os.listdir(os.getcwd())"
   ]
  },
  {
   "cell_type": "code",
   "execution_count": 13,
   "id": "8899165c",
   "metadata": {
    "scrolled": true
   },
   "outputs": [
    {
     "data": {
      "text/html": [
       "<div>\n",
       "<style scoped>\n",
       "    .dataframe tbody tr th:only-of-type {\n",
       "        vertical-align: middle;\n",
       "    }\n",
       "\n",
       "    .dataframe tbody tr th {\n",
       "        vertical-align: top;\n",
       "    }\n",
       "\n",
       "    .dataframe thead th {\n",
       "        text-align: right;\n",
       "    }\n",
       "</style>\n",
       "<table border=\"1\" class=\"dataframe\">\n",
       "  <thead>\n",
       "    <tr style=\"text-align: right;\">\n",
       "      <th></th>\n",
       "      <th>article_id</th>\n",
       "      <th>caption</th>\n",
       "      <th>cap_length</th>\n",
       "    </tr>\n",
       "  </thead>\n",
       "  <tbody>\n",
       "    <tr>\n",
       "      <th>0</th>\n",
       "      <td>/home/kudupudi.n/images/0108775015.jpg</td>\n",
       "      <td>womens Solid Black Vest top, Jersey top with n...</td>\n",
       "      <td>11</td>\n",
       "    </tr>\n",
       "    <tr>\n",
       "      <th>1</th>\n",
       "      <td>/home/kudupudi.n/images/0108775044.jpg</td>\n",
       "      <td>womens Solid White Vest top, Jersey top with n...</td>\n",
       "      <td>11</td>\n",
       "    </tr>\n",
       "    <tr>\n",
       "      <th>2</th>\n",
       "      <td>/home/kudupudi.n/images/0108775051.jpg</td>\n",
       "      <td>womens Stripe Off White Vest top, Jersey top w...</td>\n",
       "      <td>12</td>\n",
       "    </tr>\n",
       "    <tr>\n",
       "      <th>3</th>\n",
       "      <td>/home/kudupudi.n/images/0111586001.jpg</td>\n",
       "      <td>womens Solid Black Leggings, Tights with built...</td>\n",
       "      <td>22</td>\n",
       "    </tr>\n",
       "    <tr>\n",
       "      <th>4</th>\n",
       "      <td>/home/kudupudi.n/images/0116379047.jpg</td>\n",
       "      <td>womens Solid Dark Blue Top, Fitted top in soft...</td>\n",
       "      <td>18</td>\n",
       "    </tr>\n",
       "  </tbody>\n",
       "</table>\n",
       "</div>"
      ],
      "text/plain": [
       "                               article_id  \\\n",
       "0  /home/kudupudi.n/images/0108775015.jpg   \n",
       "1  /home/kudupudi.n/images/0108775044.jpg   \n",
       "2  /home/kudupudi.n/images/0108775051.jpg   \n",
       "3  /home/kudupudi.n/images/0111586001.jpg   \n",
       "4  /home/kudupudi.n/images/0116379047.jpg   \n",
       "\n",
       "                                             caption  cap_length  \n",
       "0  womens Solid Black Vest top, Jersey top with n...          11  \n",
       "1  womens Solid White Vest top, Jersey top with n...          11  \n",
       "2  womens Stripe Off White Vest top, Jersey top w...          12  \n",
       "3  womens Solid Black Leggings, Tights with built...          22  \n",
       "4  womens Solid Dark Blue Top, Fitted top in soft...          18  "
      ]
     },
     "execution_count": 13,
     "metadata": {},
     "output_type": "execute_result"
    }
   ],
   "source": [
    "df['article_id'] = df['article_id'].apply(lambda x : '/home/kudupudi.n/images/'+ x+'.jpg')\n",
    "df.head()"
   ]
  },
  {
   "cell_type": "code",
   "execution_count": 14,
   "id": "98718d86-31db-46b9-adf6-417c0e9428ad",
   "metadata": {},
   "outputs": [
    {
     "data": {
      "text/plain": [
       "'/home/kudupudi.n/images/0108775015.jpg'"
      ]
     },
     "execution_count": 14,
     "metadata": {},
     "output_type": "execute_result"
    }
   ],
   "source": [
    "df['article_id'][0]"
   ]
  },
  {
   "cell_type": "code",
   "execution_count": 15,
   "id": "07a59b9a",
   "metadata": {
    "scrolled": true
   },
   "outputs": [
    {
     "data": {
      "text/html": [
       "<div>\n",
       "<style scoped>\n",
       "    .dataframe tbody tr th:only-of-type {\n",
       "        vertical-align: middle;\n",
       "    }\n",
       "\n",
       "    .dataframe tbody tr th {\n",
       "        vertical-align: top;\n",
       "    }\n",
       "\n",
       "    .dataframe thead th {\n",
       "        text-align: right;\n",
       "    }\n",
       "</style>\n",
       "<table border=\"1\" class=\"dataframe\">\n",
       "  <thead>\n",
       "    <tr style=\"text-align: right;\">\n",
       "      <th></th>\n",
       "      <th>article_id</th>\n",
       "      <th>caption</th>\n",
       "      <th>cap_length</th>\n",
       "      <th>t_f</th>\n",
       "    </tr>\n",
       "  </thead>\n",
       "  <tbody>\n",
       "    <tr>\n",
       "      <th>0</th>\n",
       "      <td>/home/kudupudi.n/images/0108775015.jpg</td>\n",
       "      <td>womens Solid Black Vest top, Jersey top with n...</td>\n",
       "      <td>11</td>\n",
       "      <td>True</td>\n",
       "    </tr>\n",
       "    <tr>\n",
       "      <th>1</th>\n",
       "      <td>/home/kudupudi.n/images/0108775044.jpg</td>\n",
       "      <td>womens Solid White Vest top, Jersey top with n...</td>\n",
       "      <td>11</td>\n",
       "      <td>True</td>\n",
       "    </tr>\n",
       "    <tr>\n",
       "      <th>2</th>\n",
       "      <td>/home/kudupudi.n/images/0108775051.jpg</td>\n",
       "      <td>womens Stripe Off White Vest top, Jersey top w...</td>\n",
       "      <td>12</td>\n",
       "      <td>True</td>\n",
       "    </tr>\n",
       "    <tr>\n",
       "      <th>3</th>\n",
       "      <td>/home/kudupudi.n/images/0111586001.jpg</td>\n",
       "      <td>womens Solid Black Leggings, Tights with built...</td>\n",
       "      <td>22</td>\n",
       "      <td>True</td>\n",
       "    </tr>\n",
       "    <tr>\n",
       "      <th>4</th>\n",
       "      <td>/home/kudupudi.n/images/0116379047.jpg</td>\n",
       "      <td>womens Solid Dark Blue Top, Fitted top in soft...</td>\n",
       "      <td>18</td>\n",
       "      <td>True</td>\n",
       "    </tr>\n",
       "    <tr>\n",
       "      <th>...</th>\n",
       "      <td>...</td>\n",
       "      <td>...</td>\n",
       "      <td>...</td>\n",
       "      <td>...</td>\n",
       "    </tr>\n",
       "    <tr>\n",
       "      <th>52739</th>\n",
       "      <td>/home/kudupudi.n/images/0952937003.jpg</td>\n",
       "      <td>womens All over pattern Beige Dress, Fitted, c...</td>\n",
       "      <td>46</td>\n",
       "      <td>True</td>\n",
       "    </tr>\n",
       "    <tr>\n",
       "      <th>52740</th>\n",
       "      <td>/home/kudupudi.n/images/0952938001.jpg</td>\n",
       "      <td>womens All over pattern Beige Top, Fitted top ...</td>\n",
       "      <td>23</td>\n",
       "      <td>True</td>\n",
       "    </tr>\n",
       "    <tr>\n",
       "      <th>52741</th>\n",
       "      <td>/home/kudupudi.n/images/0953763001.jpg</td>\n",
       "      <td>womens Solid Black Vest top, Loose-fitting spo...</td>\n",
       "      <td>25</td>\n",
       "      <td>True</td>\n",
       "    </tr>\n",
       "    <tr>\n",
       "      <th>52742</th>\n",
       "      <td>/home/kudupudi.n/images/0956217002.jpg</td>\n",
       "      <td>womens Solid Black Dress, Short, A-line dress ...</td>\n",
       "      <td>32</td>\n",
       "      <td>True</td>\n",
       "    </tr>\n",
       "    <tr>\n",
       "      <th>52743</th>\n",
       "      <td>/home/kudupudi.n/images/0959461001.jpg</td>\n",
       "      <td>womens Solid Off White Dress, Calf-length dres...</td>\n",
       "      <td>32</td>\n",
       "      <td>True</td>\n",
       "    </tr>\n",
       "  </tbody>\n",
       "</table>\n",
       "<p>52744 rows × 4 columns</p>\n",
       "</div>"
      ],
      "text/plain": [
       "                                   article_id  \\\n",
       "0      /home/kudupudi.n/images/0108775015.jpg   \n",
       "1      /home/kudupudi.n/images/0108775044.jpg   \n",
       "2      /home/kudupudi.n/images/0108775051.jpg   \n",
       "3      /home/kudupudi.n/images/0111586001.jpg   \n",
       "4      /home/kudupudi.n/images/0116379047.jpg   \n",
       "...                                       ...   \n",
       "52739  /home/kudupudi.n/images/0952937003.jpg   \n",
       "52740  /home/kudupudi.n/images/0952938001.jpg   \n",
       "52741  /home/kudupudi.n/images/0953763001.jpg   \n",
       "52742  /home/kudupudi.n/images/0956217002.jpg   \n",
       "52743  /home/kudupudi.n/images/0959461001.jpg   \n",
       "\n",
       "                                                 caption  cap_length   t_f  \n",
       "0      womens Solid Black Vest top, Jersey top with n...          11  True  \n",
       "1      womens Solid White Vest top, Jersey top with n...          11  True  \n",
       "2      womens Stripe Off White Vest top, Jersey top w...          12  True  \n",
       "3      womens Solid Black Leggings, Tights with built...          22  True  \n",
       "4      womens Solid Dark Blue Top, Fitted top in soft...          18  True  \n",
       "...                                                  ...         ...   ...  \n",
       "52739  womens All over pattern Beige Dress, Fitted, c...          46  True  \n",
       "52740  womens All over pattern Beige Top, Fitted top ...          23  True  \n",
       "52741  womens Solid Black Vest top, Loose-fitting spo...          25  True  \n",
       "52742  womens Solid Black Dress, Short, A-line dress ...          32  True  \n",
       "52743  womens Solid Off White Dress, Calf-length dres...          32  True  \n",
       "\n",
       "[52744 rows x 4 columns]"
      ]
     },
     "execution_count": 15,
     "metadata": {},
     "output_type": "execute_result"
    }
   ],
   "source": [
    "df['t_f'] = df['article_id'].apply(lambda x: True if os.path.isfile(x) else False)\n",
    "df"
   ]
  },
  {
   "cell_type": "code",
   "execution_count": 16,
   "id": "c1ad29c0",
   "metadata": {},
   "outputs": [
    {
     "data": {
      "text/plain": [
       "t_f\n",
       "True     52593\n",
       "False      151\n",
       "Name: count, dtype: int64"
      ]
     },
     "execution_count": 16,
     "metadata": {},
     "output_type": "execute_result"
    }
   ],
   "source": [
    "df['t_f'].value_counts()"
   ]
  },
  {
   "cell_type": "markdown",
   "id": "ecdd4448",
   "metadata": {},
   "source": [
    "    Removing the rows with false values"
   ]
  },
  {
   "cell_type": "code",
   "execution_count": 17,
   "id": "c20ceb74",
   "metadata": {},
   "outputs": [
    {
     "data": {
      "text/html": [
       "<div>\n",
       "<style scoped>\n",
       "    .dataframe tbody tr th:only-of-type {\n",
       "        vertical-align: middle;\n",
       "    }\n",
       "\n",
       "    .dataframe tbody tr th {\n",
       "        vertical-align: top;\n",
       "    }\n",
       "\n",
       "    .dataframe thead th {\n",
       "        text-align: right;\n",
       "    }\n",
       "</style>\n",
       "<table border=\"1\" class=\"dataframe\">\n",
       "  <thead>\n",
       "    <tr style=\"text-align: right;\">\n",
       "      <th></th>\n",
       "      <th>article_id</th>\n",
       "      <th>caption</th>\n",
       "      <th>cap_length</th>\n",
       "      <th>t_f</th>\n",
       "    </tr>\n",
       "  </thead>\n",
       "  <tbody>\n",
       "    <tr>\n",
       "      <th>0</th>\n",
       "      <td>/home/kudupudi.n/images/0108775015.jpg</td>\n",
       "      <td>womens Solid Black Vest top, Jersey top with n...</td>\n",
       "      <td>11</td>\n",
       "      <td>True</td>\n",
       "    </tr>\n",
       "    <tr>\n",
       "      <th>1</th>\n",
       "      <td>/home/kudupudi.n/images/0108775044.jpg</td>\n",
       "      <td>womens Solid White Vest top, Jersey top with n...</td>\n",
       "      <td>11</td>\n",
       "      <td>True</td>\n",
       "    </tr>\n",
       "    <tr>\n",
       "      <th>2</th>\n",
       "      <td>/home/kudupudi.n/images/0108775051.jpg</td>\n",
       "      <td>womens Stripe Off White Vest top, Jersey top w...</td>\n",
       "      <td>12</td>\n",
       "      <td>True</td>\n",
       "    </tr>\n",
       "    <tr>\n",
       "      <th>3</th>\n",
       "      <td>/home/kudupudi.n/images/0111586001.jpg</td>\n",
       "      <td>womens Solid Black Leggings, Tights with built...</td>\n",
       "      <td>22</td>\n",
       "      <td>True</td>\n",
       "    </tr>\n",
       "    <tr>\n",
       "      <th>4</th>\n",
       "      <td>/home/kudupudi.n/images/0116379047.jpg</td>\n",
       "      <td>womens Solid Dark Blue Top, Fitted top in soft...</td>\n",
       "      <td>18</td>\n",
       "      <td>True</td>\n",
       "    </tr>\n",
       "  </tbody>\n",
       "</table>\n",
       "</div>"
      ],
      "text/plain": [
       "                               article_id  \\\n",
       "0  /home/kudupudi.n/images/0108775015.jpg   \n",
       "1  /home/kudupudi.n/images/0108775044.jpg   \n",
       "2  /home/kudupudi.n/images/0108775051.jpg   \n",
       "3  /home/kudupudi.n/images/0111586001.jpg   \n",
       "4  /home/kudupudi.n/images/0116379047.jpg   \n",
       "\n",
       "                                             caption  cap_length   t_f  \n",
       "0  womens Solid Black Vest top, Jersey top with n...          11  True  \n",
       "1  womens Solid White Vest top, Jersey top with n...          11  True  \n",
       "2  womens Stripe Off White Vest top, Jersey top w...          12  True  \n",
       "3  womens Solid Black Leggings, Tights with built...          22  True  \n",
       "4  womens Solid Dark Blue Top, Fitted top in soft...          18  True  "
      ]
     },
     "execution_count": 17,
     "metadata": {},
     "output_type": "execute_result"
    }
   ],
   "source": [
    "keep_indx = list(df.loc[df['t_f'] == True].index)\n",
    "df = df.iloc[keep_indx,:].reset_index(drop = True)\n",
    "df.head()"
   ]
  },
  {
   "cell_type": "markdown",
   "id": "0ddaf740",
   "metadata": {},
   "source": [
    "# Converting data \n",
    "    converting the data to appropriate format for the pytorch and CLIP model"
   ]
  },
  {
   "cell_type": "code",
   "execution_count": 20,
   "id": "2013cd9f",
   "metadata": {},
   "outputs": [
    {
     "name": "stdout",
     "output_type": "stream",
     "text": [
      "cuda\n"
     ]
    }
   ],
   "source": [
    "import os\n",
    "from PIL import Image\n",
    "import numpy as np\n",
    "import os\n",
    "\n",
    "import torch\n",
    "import torch.nn as nn\n",
    "from torch.utils.data import DataLoader\n",
    "from tqdm import tqdm\n",
    "\n",
    "torch.manual_seed(42)\n",
    "\n",
    "device = 'cuda' if torch.cuda.is_available() else 'cpu'\n",
    "print(device)"
   ]
  },
  {
   "cell_type": "code",
   "execution_count": 21,
   "id": "c3ebf1ab",
   "metadata": {},
   "outputs": [],
   "source": [
    "class image_title_dataset():\n",
    "    def __init__(self, text_paths, list_image_path):\n",
    "        self.text_paths = text_paths\n",
    "        self.list_image_path = list_image_path\n",
    "\n",
    "    def __len__(self):\n",
    "        return len(self.text_paths)\n",
    "\n",
    "    def __getitem__(self, idx):\n",
    "        return self.list_image_path[idx], self.text_paths[idx]"
   ]
  },
  {
   "cell_type": "code",
   "execution_count": 22,
   "id": "b3957634",
   "metadata": {},
   "outputs": [],
   "source": [
    "from sklearn.model_selection import train_test_split"
   ]
  },
  {
   "cell_type": "code",
   "execution_count": 23,
   "id": "9e02c4bd",
   "metadata": {},
   "outputs": [
    {
     "name": "stdout",
     "output_type": "stream",
     "text": [
      "train\n",
      "37866\n",
      "\n",
      "\n",
      "test\n",
      "9467\n",
      "\n",
      "\n",
      "val\n",
      "5260\n"
     ]
    }
   ],
   "source": [
    "train,val = train_test_split(df, test_size=0.1, random_state= 42)\n",
    "train,test = train_test_split(train, test_size=0.2, random_state= 42)\n",
    "\n",
    "train.reset_index(inplace= True,drop= True)\n",
    "val.reset_index(inplace= True,drop= True)\n",
    "\n",
    "test.reset_index(inplace= True,drop= True)\n",
    "\n",
    "print('train')\n",
    "print(len(train))\n",
    "print('\\n')\n",
    "print('test')\n",
    "print(len(test))\n",
    "print('\\n')\n",
    "print('val')\n",
    "print(len(val))"
   ]
  },
  {
   "cell_type": "code",
   "execution_count": 23,
   "id": "649c17b9-4b2a-43dd-ad2e-118f2c68ab17",
   "metadata": {},
   "outputs": [
    {
     "data": {
      "text/plain": [
       "'womens All over pattern Light Yellow Swimwear bottom, Fully lined bikini bottoms with a low waist and cutaway coverage at the back.'"
      ]
     },
     "execution_count": 23,
     "metadata": {},
     "output_type": "execute_result"
    }
   ],
   "source": [
    "## womens All over pattern Light Yellow Swimwear bottom, Fully lined bikini bottoms with a low waist and cutaway coverage at the back.\n",
    "\n",
    "train['caption'][0] #  result shoould be same to above text "
   ]
  },
  {
   "cell_type": "code",
   "execution_count": 25,
   "id": "91d8c7b0-f5bf-4c43-94e2-c424bd1021ee",
   "metadata": {},
   "outputs": [
    {
     "data": {
      "text/plain": [
       "'mens Solid Black Sweater, Jacket in soft fleece designed to be worn either as a jacket or as a thermal mid layer. Stand-up collar, concealed zip down the front and side pockets. Unlined. Regular Fit. The polyester content of the jacket is partly recycled.'"
      ]
     },
     "execution_count": 25,
     "metadata": {},
     "output_type": "execute_result"
    }
   ],
   "source": [
    "## 'mens Solid Black Sweater, Jacket in soft fleece designed to be worn either as a jacket or as a thermal mid layer. \n",
    "## Stand-up collar, concealed zip down the front and side pockets. Unlined. Regular Fit. The polyester content of the jacket is partly recycled.'\n",
    "\n",
    "test['caption'][0] #  result shoould be same to above text "
   ]
  },
  {
   "cell_type": "code",
   "execution_count": 24,
   "id": "b563e4bd-77bd-4432-8cf6-610eca9c64aa",
   "metadata": {},
   "outputs": [
    {
     "data": {
      "text/plain": [
       "'womens Melange Yellowish Brown Top, Calf-length dress in a knit containing some wool with a V-neck, gently dropped shoulders, ribbing at the cuffs and hem, and slits in the sides.'"
      ]
     },
     "execution_count": 24,
     "metadata": {},
     "output_type": "execute_result"
    }
   ],
   "source": [
    "## 'womens Melange Yellowish Brown Top, Calf-length dress in a knit containing some wool with a V-neck, gently dropped shoulders, \n",
    "## ribbing at the cuffs and hem, and slits in the sides.'\n",
    "\n",
    "val['caption'][0] #  result shoould be same to above text "
   ]
  },
  {
   "cell_type": "code",
   "execution_count": 26,
   "id": "06d74928",
   "metadata": {},
   "outputs": [],
   "source": [
    "train_dataloader = DataLoader(image_title_dataset(train['caption'], train['article_id']), batch_size = 32, shuffle= True)\n",
    "test_dataloader = DataLoader( image_title_dataset(test['caption'], test['article_id']), batch_size= 32,shuffle= True)\n",
    "val_dataloader = DataLoader( image_title_dataset(val['caption'], val['article_id']), batch_size= 32,shuffle= True)"
   ]
  },
  {
   "cell_type": "markdown",
   "id": "a7be6459-bbb5-4090-a4dd-9b368baa8e51",
   "metadata": {},
   "source": [
    "# Training the model"
   ]
  },
  {
   "cell_type": "code",
   "execution_count": 19,
   "id": "d8698a61",
   "metadata": {
    "scrolled": true
   },
   "outputs": [
    {
     "ename": "NameError",
     "evalue": "name 'device' is not defined",
     "output_type": "error",
     "traceback": [
      "\u001b[0;31m---------------------------------------------------------------------------\u001b[0m",
      "\u001b[0;31mNameError\u001b[0m                                 Traceback (most recent call last)",
      "Cell \u001b[0;32mIn[19], line 3\u001b[0m\n\u001b[1;32m      1\u001b[0m torch\u001b[38;5;241m.\u001b[39mmanual_seed(\u001b[38;5;241m42\u001b[39m)\n\u001b[0;32m----> 3\u001b[0m model \u001b[38;5;241m=\u001b[39m CLIPModel\u001b[38;5;241m.\u001b[39mfrom_pretrained(\u001b[38;5;124m\"\u001b[39m\u001b[38;5;124mopenai/clip-vit-base-patch32\u001b[39m\u001b[38;5;124m\"\u001b[39m)\u001b[38;5;241m.\u001b[39mto(\u001b[43mdevice\u001b[49m)\n\u001b[1;32m      4\u001b[0m processor \u001b[38;5;241m=\u001b[39m CLIPProcessor\u001b[38;5;241m.\u001b[39mfrom_pretrained(\u001b[38;5;124m\"\u001b[39m\u001b[38;5;124mopenai/clip-vit-base-patch32\u001b[39m\u001b[38;5;124m\"\u001b[39m)\n\u001b[1;32m      5\u001b[0m tokenizer \u001b[38;5;241m=\u001b[39m CLIPTokenizer\u001b[38;5;241m.\u001b[39mfrom_pretrained(\u001b[38;5;124m\"\u001b[39m\u001b[38;5;124mopenai/clip-vit-base-patch32\u001b[39m\u001b[38;5;124m\"\u001b[39m)\n",
      "\u001b[0;31mNameError\u001b[0m: name 'device' is not defined"
     ]
    }
   ],
   "source": [
    "model = CLIPModel.from_pretrained(\"openai/clip-vit-base-patch32\").to(device)\n",
    "processor = CLIPProcessor.from_pretrained(\"openai/clip-vit-base-patch32\")\n",
    "tokenizer = CLIPTokenizer.from_pretrained(\"openai/clip-vit-base-patch32\")"
   ]
  },
  {
   "cell_type": "code",
   "execution_count": 29,
   "id": "c2e7972f",
   "metadata": {},
   "outputs": [],
   "source": [
    "def convert_models_to_fp32(model): \n",
    "    for p in model.parameters(): \n",
    "        p.data = p.data.float() \n",
    "        p.grad.data = p.grad.data.float() "
   ]
  },
  {
   "cell_type": "code",
   "execution_count": 23,
   "id": "9a51c48e",
   "metadata": {
    "scrolled": true
   },
   "outputs": [],
   "source": [
    "# !pip install clip\n",
    "# import clip "
   ]
  },
  {
   "cell_type": "code",
   "execution_count": null,
   "id": "61e4a05d",
   "metadata": {},
   "outputs": [
    {
     "name": "stderr",
     "output_type": "stream",
     "text": [
      "Epoch 0/4, Loss: 0.4640: 100%|██████████| 1184/1184 [44:42<00:00,  2.27s/it]\n"
     ]
    },
    {
     "name": "stdout",
     "output_type": "stream",
     "text": [
      "Checkpoint saved (overwritten) for epoch 1 at model_checkpoint/latest_model_checkpoint.pth\n",
      "Epoch 0/4, Validation Loss: 1.4503\n"
     ]
    },
    {
     "name": "stderr",
     "output_type": "stream",
     "text": [
      "Epoch 1/4, Loss: 0.5001: 100%|██████████| 1184/1184 [42:54<00:00,  2.17s/it]\n"
     ]
    },
    {
     "name": "stdout",
     "output_type": "stream",
     "text": [
      "Checkpoint saved (overwritten) for epoch 2 at model_checkpoint/latest_model_checkpoint.pth\n",
      "Epoch 1/4, Validation Loss: 1.1566\n"
     ]
    },
    {
     "name": "stderr",
     "output_type": "stream",
     "text": [
      "Epoch 2/4, Loss: 0.3925: 100%|██████████| 1184/1184 [42:45<00:00,  2.17s/it]\n"
     ]
    },
    {
     "name": "stdout",
     "output_type": "stream",
     "text": [
      "Checkpoint saved (overwritten) for epoch 3 at model_checkpoint/latest_model_checkpoint.pth\n",
      "Epoch 2/4, Validation Loss: 1.4471\n"
     ]
    },
    {
     "name": "stderr",
     "output_type": "stream",
     "text": [
      "Epoch 3/4, Loss: 1.0816:  86%|████████▌ | 1013/1184 [35:59<05:58,  2.10s/it]"
     ]
    }
   ],
   "source": [
    "#defining optimizer and losses \n",
    "optimizer = torch.optim.Adam(model.parameters(), lr= 5e-5,betas=(0.9,0.98),eps=1e-6,weight_decay=0.2)\n",
    "loss_img = nn.CrossEntropyLoss()\n",
    "loss_txt = nn.CrossEntropyLoss()\n",
    "\n",
    "# saving model parameters for further use\n",
    "save_dir = 'model_checkpoint'\n",
    "os.makedirs(save_dir, exist_ok=True)\n",
    "checkpoint_path = os.path.join(save_dir, 'latest_model_checkpoint.pth')\n",
    "\n",
    "\n",
    "num_epochs = 4\n",
    "for epoch in range(num_epochs):\n",
    "    pbar = tqdm(train_dataloader, total=len(train_dataloader))\n",
    "    for batch in pbar:\n",
    "        optimizer.zero_grad()\n",
    "\n",
    "        imgs,texts = batch \n",
    "        # desired_size = (224, 224)\n",
    "        images = [Image.open(img_path) for img_path in imgs]\n",
    "        texts = list(texts)\n",
    "    \n",
    "        inputs = processor(text=texts, images=images, return_tensors=\"pt\", padding=True, truncation= True, max_length = 77)\n",
    "        inputs = {key: value.to(device) for key, value in inputs.items()}\n",
    "        \n",
    "        # Forward pass\n",
    "        outputs = model(**inputs)\n",
    "        logits_per_image, logits_per_text = outputs.logits_per_image, outputs.logits_per_text\n",
    "        \n",
    "        # Compute loss\n",
    "        ground_truth = torch.arange(len(images),dtype=torch.long,device=device)\n",
    "        total_loss = (loss_img(logits_per_image,ground_truth) + loss_txt(logits_per_text,ground_truth))/2\n",
    "        \n",
    "        # Backward pass\n",
    "        total_loss.backward()\n",
    "        if device == \"cpu\":\n",
    "            optimizer.step()\n",
    "        else : \n",
    "            convert_models_to_fp32(model)\n",
    "            optimizer.step()\n",
    "\n",
    "        \n",
    "        pbar.set_description(f\"Epoch {epoch}/{num_epochs}, Loss: {total_loss.item():.4f}\")\n",
    "\n",
    "    # Save (overwrite) the model and optimizer state at the end of each epoch\n",
    "    torch.save({\n",
    "        'epoch': epoch+1,\n",
    "        'model_state_dict': model.state_dict(),\n",
    "        'optimizer_state_dict': optimizer.state_dict(),\n",
    "        'loss': total_loss.item(),\n",
    "    }, checkpoint_path)\n",
    "\n",
    "    print(f\"Checkpoint saved (overwritten) for epoch {epoch+1} at {checkpoint_path}\")\n",
    "    \n",
    "\n",
    "    # Validation phase\n",
    "    model.eval()  # Set model to evaluation mode\n",
    "    total_val_loss = 0\n",
    "    with torch.no_grad():  # No gradients needed for validation\n",
    "        for batch in val_dataloader:\n",
    "            images, texts = batch\n",
    "\n",
    "            # desired_size = (224, 224)\n",
    "            images = [Image.open(img_path) for img_path in images]\n",
    "            texts = list(texts)\n",
    "            \n",
    "            inputs = processor(text=texts, images=images, return_tensors=\"pt\", padding=True, truncation= True, max_length = 77)\n",
    "            inputs = {key: value.to(device) for key, value in inputs.items()}\n",
    "\n",
    "            outputs = model(**inputs)\n",
    "            logits_per_image, logits_per_text = outputs.logits_per_image, outputs.logits_per_text\n",
    "\n",
    "            ground_truth = torch.arange(len(images), dtype=torch.long, device=device)\n",
    "            val_loss = (loss_img(logits_per_image, ground_truth) + loss_txt(logits_per_text, ground_truth)) / 2\n",
    "            total_val_loss += val_loss.item()\n",
    "\n",
    "    avg_val_loss = total_val_loss / len(val_dataloader)\n",
    "    print(f\"Epoch {epoch}/{num_epochs}, Validation Loss: {avg_val_loss:.4f}\")\n"
   ]
  },
  {
   "cell_type": "markdown",
   "id": "cc0dcd06-522e-4c26-8274-cb569a77258c",
   "metadata": {},
   "source": [
    "# Restarting the training \n",
    "\n",
    "    training the model from where we left it off"
   ]
  },
  {
   "cell_type": "code",
   "execution_count": 29,
   "id": "513ed6ed-7781-4434-bb22-1a4dfe8be724",
   "metadata": {},
   "outputs": [],
   "source": [
    "from transformers import CLIPModel, CLIPProcessor, CLIPTokenizer\n",
    "\n",
    "# Initialize model, optimizer, and other components\n",
    "model = CLIPModel.from_pretrained(\"openai/clip-vit-base-patch32\").to(device)\n",
    "processor = CLIPProcessor.from_pretrained(\"openai/clip-vit-base-patch32\")\n",
    "tokenizer = CLIPTokenizer.from_pretrained(\"openai/clip-vit-base-patch32\")\n",
    "\n",
    "optimizer = torch.optim.Adam(model.parameters(), lr= 5e-5,betas=(0.9,0.98),eps=1e-6,weight_decay=0.2)\n",
    "loss_img = nn.CrossEntropyLoss()\n",
    "loss_txt = nn.CrossEntropyLoss()\n",
    "\n",
    "def convert_models_to_fp32(model): \n",
    "    for p in model.parameters(): \n",
    "        p.data = p.data.float() \n",
    "        p.grad.data = p.grad.data.float() "
   ]
  },
  {
   "cell_type": "code",
   "execution_count": 30,
   "id": "a2cc9bd8-6555-4586-9fba-e184ba136c16",
   "metadata": {},
   "outputs": [],
   "source": [
    "checkpoint = torch.load('model_checkpoint/latest_model_checkpoint.pth', map_location=device)\n",
    "\n",
    "model.load_state_dict(checkpoint['model_state_dict'])\n",
    "optimizer.load_state_dict(checkpoint['optimizer_state_dict'])\n",
    "\n",
    "# Load other training components if necessary, e.g., epoch number\n",
    "new_epoch = checkpoint.get('epoch', 0)"
   ]
  },
  {
   "cell_type": "code",
   "execution_count": 52,
   "id": "b2c4c7a8-a9fe-429e-87dc-d97ffa5b80a6",
   "metadata": {},
   "outputs": [
    {
     "name": "stderr",
     "output_type": "stream",
     "text": [
      "Epoch 3/4, Loss: 0.2532: 100%|██████████| 1184/1184 [49:01<00:00,  2.48s/it]\n"
     ]
    },
    {
     "name": "stdout",
     "output_type": "stream",
     "text": [
      "Checkpoint saved (overwritten) for epoch 4 at model_checkpoint/latest_model_checkpoint.pth\n",
      "Epoch 3/4, Validation Loss: 1.0011\n"
     ]
    }
   ],
   "source": [
    "num_epochs = 4\n",
    "for epoch in range(new_epoch, num_epochs):\n",
    "    pbar = tqdm(train_dataloader, total=len(train_dataloader))\n",
    "    for batch in pbar:\n",
    "        optimizer.zero_grad()\n",
    "\n",
    "        imgs,texts = batch \n",
    "        # desired_size = (224, 224)\n",
    "        images = [Image.open(img_path) for img_path in imgs]\n",
    "        texts = list(texts)\n",
    "    \n",
    "        inputs = processor(text=texts, images=images, return_tensors=\"pt\", padding=True, truncation= True, max_length = 77)\n",
    "        inputs = {key: value.to(device) for key, value in inputs.items()}\n",
    "        \n",
    "        # Forward pass\n",
    "        outputs = model(**inputs)\n",
    "        logits_per_image, logits_per_text = outputs.logits_per_image, outputs.logits_per_text\n",
    "        \n",
    "        # Compute loss\n",
    "        ground_truth = torch.arange(len(images),dtype=torch.long,device=device)\n",
    "        total_loss = (loss_img(logits_per_image,ground_truth) + loss_txt(logits_per_text,ground_truth))/2\n",
    "        \n",
    "        # Backward pass\n",
    "        total_loss.backward()\n",
    "        if device == \"cpu\":\n",
    "            optimizer.step()\n",
    "        else : \n",
    "            convert_models_to_fp32(model)\n",
    "            optimizer.step()\n",
    "\n",
    "        \n",
    "        pbar.set_description(f\"Epoch {epoch}/{num_epochs}, Loss: {total_loss.item():.4f}\")\n",
    "\n",
    "    # Save (overwrite) the model and optimizer state at the end of each epoch\n",
    "    torch.save({\n",
    "        'epoch': epoch+1,\n",
    "        'model_state_dict': model.state_dict(),\n",
    "        'optimizer_state_dict': optimizer.state_dict(),\n",
    "        'loss': total_loss.item(),\n",
    "    }, 'model_checkpoint/latest_model_checkpoint.pth')\n",
    "\n",
    "    print(f\"Checkpoint saved (overwritten) for epoch {epoch+1} at {'model_checkpoint/latest_model_checkpoint.pth'}\")\n",
    "    \n",
    "\n",
    "    # Validation phase\n",
    "    model.eval()  # Set model to evaluation mode\n",
    "    total_val_loss = 0\n",
    "    with torch.no_grad():  # No gradients needed for validation\n",
    "        for batch in val_dataloader:\n",
    "            images, texts = batch\n",
    "\n",
    "            # desired_size = (224, 224)\n",
    "            images = [Image.open(img_path) for img_path in images]\n",
    "            texts = list(texts)\n",
    "            \n",
    "            inputs = processor(text=texts, images=images, return_tensors=\"pt\", padding=True, truncation= True, max_length = 77)\n",
    "            inputs = {key: value.to(device) for key, value in inputs.items()}\n",
    "\n",
    "            outputs = model(**inputs)\n",
    "            logits_per_image, logits_per_text = outputs.logits_per_image, outputs.logits_per_text\n",
    "\n",
    "            ground_truth = torch.arange(len(images), dtype=torch.long, device=device)\n",
    "            val_loss = (loss_img(logits_per_image, ground_truth) + loss_txt(logits_per_text, ground_truth)) / 2\n",
    "            total_val_loss += val_loss.item()\n",
    "\n",
    "    avg_val_loss = total_val_loss / len(val_dataloader)\n",
    "    print(f\"Epoch {epoch}/{num_epochs}, Validation Loss: {avg_val_loss:.4f}\")"
   ]
  },
  {
   "cell_type": "markdown",
   "id": "9de4ac82",
   "metadata": {},
   "source": [
    "# Testing "
   ]
  },
  {
   "cell_type": "markdown",
   "id": "8a14c9df-7fc4-430f-8fc6-3ba1d1887c53",
   "metadata": {},
   "source": [
    "## Fine Tunned Model"
   ]
  },
  {
   "cell_type": "code",
   "execution_count": 29,
   "id": "e0445546",
   "metadata": {
    "scrolled": true
   },
   "outputs": [],
   "source": [
    "from transformers import CLIPModel, CLIPProcessor, CLIPTokenizer\n",
    "\n",
    "device = 'cuda' if torch.cuda.is_available() else 'cpu'\n",
    "\n",
    "# Initialize the model architecture\n",
    "model = CLIPModel.from_pretrained(\"openai/clip-vit-base-patch32\")\n",
    "# Load the fine-tuned model parameters\n",
    "model_file = torch.load('model_checkpoint/latest_model_checkpoint.pth', map_location=device)\n",
    "model.load_state_dict(model_file['model_state_dict'])\n",
    "model.to(device)  # Move model to the appropriate device (CPU or GPU)\n",
    "\n",
    "\n",
    "# Load the processor and tokenizer\n",
    "processor = CLIPProcessor.from_pretrained(\"openai/clip-vit-base-patch32\")\n",
    "tokenizer = CLIPTokenizer.from_pretrained(\"openai/clip-vit-base-patch32\")\n"
   ]
  },
  {
   "cell_type": "code",
   "execution_count": 30,
   "id": "7c8d98ac-f926-41ee-a2e4-2838abf9cff5",
   "metadata": {},
   "outputs": [],
   "source": [
    "def get_single_image_embedding(my_image):\n",
    "    image = processor(\n",
    "    \t\ttext = None,\n",
    "    \t\timages = my_image,\n",
    "    \t\treturn_tensors=\"pt\"\n",
    "    \t\t)[\"pixel_values\"].to(device)\n",
    "    \n",
    "    embedding = model.get_image_features(image)\n",
    "    embedding_as_np = embedding.cpu().detach().numpy() \n",
    "    return embedding_as_np\n",
    "\n",
    "\n",
    "def get_single_text_embedding(text): \n",
    "    inputs = tokenizer(text, return_tensors = \"pt\") .to(device)\n",
    "    text_embeddings = model.get_text_features(**inputs)\n",
    "\n",
    " \t# convert the embeddings to numpy array\n",
    "    embedding_as_np = text_embeddings.cpu().detach().numpy()\n",
    "    return embedding_as_np"
   ]
  },
  {
   "cell_type": "code",
   "execution_count": 32,
   "id": "155bf6b3-4b6e-42b8-96a5-628d12c3eaa0",
   "metadata": {},
   "outputs": [],
   "source": [
    "test['img_embeddings'] = test['article_id'].apply(lambda x: get_single_image_embedding(Image.open(x)))"
   ]
  },
  {
   "cell_type": "code",
   "execution_count": 35,
   "id": "897b0ac5-e1e9-47c0-bbe6-d83ec246ddce",
   "metadata": {},
   "outputs": [
    {
     "data": {
      "text/html": [
       "<div>\n",
       "<style scoped>\n",
       "    .dataframe tbody tr th:only-of-type {\n",
       "        vertical-align: middle;\n",
       "    }\n",
       "\n",
       "    .dataframe tbody tr th {\n",
       "        vertical-align: top;\n",
       "    }\n",
       "\n",
       "    .dataframe thead th {\n",
       "        text-align: right;\n",
       "    }\n",
       "</style>\n",
       "<table border=\"1\" class=\"dataframe\">\n",
       "  <thead>\n",
       "    <tr style=\"text-align: right;\">\n",
       "      <th></th>\n",
       "      <th>article_id</th>\n",
       "      <th>caption</th>\n",
       "      <th>cap_length</th>\n",
       "      <th>t_f</th>\n",
       "      <th>img_embeddings</th>\n",
       "    </tr>\n",
       "  </thead>\n",
       "  <tbody>\n",
       "    <tr>\n",
       "      <th>0</th>\n",
       "      <td>/home/kudupudi.n/images/0795354001.jpg</td>\n",
       "      <td>mens Solid Black Sweater, Jacket in soft fleec...</td>\n",
       "      <td>44</td>\n",
       "      <td>True</td>\n",
       "      <td>[[0.0017019107, 0.0014239277, -0.00571223, -0....</td>\n",
       "    </tr>\n",
       "    <tr>\n",
       "      <th>1</th>\n",
       "      <td>/home/kudupudi.n/images/0869329002.jpg</td>\n",
       "      <td>Solid Black Outdoor Waistcoat, Slightly short...</td>\n",
       "      <td>49</td>\n",
       "      <td>True</td>\n",
       "      <td>[[0.0012418239, 0.0008533694, -0.006150071, -0...</td>\n",
       "    </tr>\n",
       "    <tr>\n",
       "      <th>2</th>\n",
       "      <td>/home/kudupudi.n/images/0841298005.jpg</td>\n",
       "      <td>womens Solid Greenish Khaki Blouse, Sleeveless...</td>\n",
       "      <td>26</td>\n",
       "      <td>True</td>\n",
       "      <td>[[0.000770418, 0.002253888, -0.0040720915, -0....</td>\n",
       "    </tr>\n",
       "    <tr>\n",
       "      <th>3</th>\n",
       "      <td>/home/kudupudi.n/images/0832323001.jpg</td>\n",
       "      <td>womens Glittering/Metallic Black Dress, Short,...</td>\n",
       "      <td>27</td>\n",
       "      <td>True</td>\n",
       "      <td>[[0.0015701005, 0.0016246964, -0.006629352, -0...</td>\n",
       "    </tr>\n",
       "    <tr>\n",
       "      <th>4</th>\n",
       "      <td>/home/kudupudi.n/images/0765433002.jpg</td>\n",
       "      <td>womens All over pattern Grey Leggings, Sports ...</td>\n",
       "      <td>33</td>\n",
       "      <td>True</td>\n",
       "      <td>[[0.0009182672, 0.0008736912, -0.004145367, -0...</td>\n",
       "    </tr>\n",
       "  </tbody>\n",
       "</table>\n",
       "</div>"
      ],
      "text/plain": [
       "                               article_id  \\\n",
       "0  /home/kudupudi.n/images/0795354001.jpg   \n",
       "1  /home/kudupudi.n/images/0869329002.jpg   \n",
       "2  /home/kudupudi.n/images/0841298005.jpg   \n",
       "3  /home/kudupudi.n/images/0832323001.jpg   \n",
       "4  /home/kudupudi.n/images/0765433002.jpg   \n",
       "\n",
       "                                             caption  cap_length   t_f  \\\n",
       "0  mens Solid Black Sweater, Jacket in soft fleec...          44  True   \n",
       "1   Solid Black Outdoor Waistcoat, Slightly short...          49  True   \n",
       "2  womens Solid Greenish Khaki Blouse, Sleeveless...          26  True   \n",
       "3  womens Glittering/Metallic Black Dress, Short,...          27  True   \n",
       "4  womens All over pattern Grey Leggings, Sports ...          33  True   \n",
       "\n",
       "                                      img_embeddings  \n",
       "0  [[0.0017019107, 0.0014239277, -0.00571223, -0....  \n",
       "1  [[0.0012418239, 0.0008533694, -0.006150071, -0...  \n",
       "2  [[0.000770418, 0.002253888, -0.0040720915, -0....  \n",
       "3  [[0.0015701005, 0.0016246964, -0.006629352, -0...  \n",
       "4  [[0.0009182672, 0.0008736912, -0.004145367, -0...  "
      ]
     },
     "execution_count": 35,
     "metadata": {},
     "output_type": "execute_result"
    }
   ],
   "source": [
    "test.head()"
   ]
  },
  {
   "cell_type": "code",
   "execution_count": 39,
   "id": "d527ba2f-b4a7-41b1-b24e-1cf91baab749",
   "metadata": {},
   "outputs": [],
   "source": [
    "from sklearn.metrics.pairwise import cosine_similarity\n",
    "def get_top_N_images(query, data, top_K=4):\n",
    "    \n",
    "    query_vect = get_single_text_embedding(query)\n",
    "  \n",
    "    # Relevant columns\n",
    "    revevant_cols = [\"caption\", \"article_id\", \"cos_sim\"]\n",
    "    # Run similarity Search\n",
    "    data[\"cos_sim\"] = data[\"img_embeddings\"].apply(lambda x: cosine_similarity(query_vect, x))# line 17\n",
    "    data[\"cos_sim\"] = data[\"cos_sim\"].apply(lambda x: x[0][0])\n",
    "    \"\"\"\n",
    "    Retrieve top_K (4 is default value) articles similar to the query\n",
    "    \"\"\"\n",
    "    most_similar_articles = data.sort_values(by='cos_sim',  ascending=False)[1:top_K+1] # line 24\n",
    "    \n",
    "    return most_similar_articles[revevant_cols].reset_index()"
   ]
  },
  {
   "cell_type": "code",
   "execution_count": 72,
   "id": "9591c1ee-b08f-48d1-a23a-b74bf3e3389e",
   "metadata": {},
   "outputs": [
    {
     "data": {
      "text/html": [
       "<div>\n",
       "<style scoped>\n",
       "    .dataframe tbody tr th:only-of-type {\n",
       "        vertical-align: middle;\n",
       "    }\n",
       "\n",
       "    .dataframe tbody tr th {\n",
       "        vertical-align: top;\n",
       "    }\n",
       "\n",
       "    .dataframe thead th {\n",
       "        text-align: right;\n",
       "    }\n",
       "</style>\n",
       "<table border=\"1\" class=\"dataframe\">\n",
       "  <thead>\n",
       "    <tr style=\"text-align: right;\">\n",
       "      <th></th>\n",
       "      <th>index</th>\n",
       "      <th>caption</th>\n",
       "      <th>article_id</th>\n",
       "      <th>cos_sim</th>\n",
       "    </tr>\n",
       "  </thead>\n",
       "  <tbody>\n",
       "    <tr>\n",
       "      <th>0</th>\n",
       "      <td>8204</td>\n",
       "      <td>Embroidery Light Blue T-shirt, Fitted jersey ...</td>\n",
       "      <td>/home/kudupudi.n/images/0738010003.jpg</td>\n",
       "      <td>0.646453</td>\n",
       "    </tr>\n",
       "    <tr>\n",
       "      <th>1</th>\n",
       "      <td>1301</td>\n",
       "      <td>mens Stripe Dark Blue T-shirt, T-shirt in slub...</td>\n",
       "      <td>/home/kudupudi.n/images/0591466047.jpg</td>\n",
       "      <td>0.645036</td>\n",
       "    </tr>\n",
       "    <tr>\n",
       "      <th>2</th>\n",
       "      <td>1511</td>\n",
       "      <td>Embroidery Light Blue T-shirt, T-shirt in sof...</td>\n",
       "      <td>/home/kudupudi.n/images/0640258017.jpg</td>\n",
       "      <td>0.643086</td>\n",
       "    </tr>\n",
       "    <tr>\n",
       "      <th>3</th>\n",
       "      <td>5747</td>\n",
       "      <td>Embroidery Blue T-shirt, T-shirt in soft jersey.</td>\n",
       "      <td>/home/kudupudi.n/images/0717490083.jpg</td>\n",
       "      <td>0.641648</td>\n",
       "    </tr>\n",
       "  </tbody>\n",
       "</table>\n",
       "</div>"
      ],
      "text/plain": [
       "   index                                            caption  \\\n",
       "0   8204   Embroidery Light Blue T-shirt, Fitted jersey ...   \n",
       "1   1301  mens Stripe Dark Blue T-shirt, T-shirt in slub...   \n",
       "2   1511   Embroidery Light Blue T-shirt, T-shirt in sof...   \n",
       "3   5747   Embroidery Blue T-shirt, T-shirt in soft jersey.   \n",
       "\n",
       "                               article_id   cos_sim  \n",
       "0  /home/kudupudi.n/images/0738010003.jpg  0.646453  \n",
       "1  /home/kudupudi.n/images/0591466047.jpg  0.645036  \n",
       "2  /home/kudupudi.n/images/0640258017.jpg  0.643086  \n",
       "3  /home/kudupudi.n/images/0717490083.jpg  0.641648  "
      ]
     },
     "execution_count": 72,
     "metadata": {},
     "output_type": "execute_result"
    }
   ],
   "source": [
    "get_top_N_images('Mens Melange Blue T-shirt,',test)"
   ]
  },
  {
   "cell_type": "code",
   "execution_count": 66,
   "id": "83e3b743-7933-40ef-af1e-887d8fa8f901",
   "metadata": {},
   "outputs": [
    {
     "data": {
      "image/jpeg": "[encoded data removed]",
      "image/png": "[encoded data removed]",
      "text/plain": [
       "<PIL.Image.Image image mode=RGB size=256x256>"
      ]
     },
     "execution_count": 66,
     "metadata": {},
     "output_type": "execute_result"
    }
   ],
   "source": [
    "Image.open('/home/kudupudi.n/images/0669906001.jpg').resize((256,256))"
   ]
  },
  {
   "cell_type": "markdown",
   "id": "7ccbd239-e528-4ccd-b130-3cbf7e2a3179",
   "metadata": {},
   "source": [
    "## OG Tunned Model"
   ]
  },
  {
   "cell_type": "code",
   "execution_count": 74,
   "id": "5dc3cf3e-70f6-486b-b127-7795dfe26667",
   "metadata": {},
   "outputs": [],
   "source": [
    "model = CLIPModel.from_pretrained(\"openai/clip-vit-base-patch32\")\n",
    "\n",
    "\n",
    "# Load the fine-tuned model parameters\n",
    "model.to(device)  \n",
    "\n",
    "# Load the processor and tokenizer\n",
    "processor = CLIPProcessor.from_pretrained(\"openai/clip-vit-base-patch32\")\n",
    "tokenizer = CLIPTokenizer.from_pretrained(\"openai/clip-vit-base-patch32\")"
   ]
  },
  {
   "cell_type": "code",
   "execution_count": 75,
   "id": "6f6c8fbd-a479-4586-a580-6c955f0edc51",
   "metadata": {},
   "outputs": [],
   "source": [
    "def get_single_image_embedding(my_image):\n",
    "    image = processor(\n",
    "    \t\ttext = None,\n",
    "    \t\timages = my_image,\n",
    "    \t\treturn_tensors=\"pt\"\n",
    "    \t\t)[\"pixel_values\"].to(device)\n",
    "    \n",
    "    embedding = model.get_image_features(image)\n",
    "    embedding_as_np = embedding.cpu().detach().numpy() \n",
    "    return embedding_as_np\n",
    "\n",
    "\n",
    "def get_single_text_embedding(text): \n",
    "    inputs = tokenizer(text, return_tensors = \"pt\") .to(device)\n",
    "    text_embeddings = model.get_text_features(**inputs)\n",
    "\n",
    " \t# convert the embeddings to numpy array\n",
    "    embedding_as_np = text_embeddings.cpu().detach().numpy()\n",
    "    return embedding_as_np"
   ]
  },
  {
   "cell_type": "code",
   "execution_count": 76,
   "id": "9093b5d8-7516-4759-89a4-98924659f7fb",
   "metadata": {},
   "outputs": [],
   "source": [
    "from sklearn.metrics.pairwise import cosine_similarity\n",
    "def get_top_N_images(query, data, top_K=4):\n",
    "    \n",
    "    query_vect = get_single_text_embedding(query)\n",
    "  \n",
    "    # Relevant columns\n",
    "    revevant_cols = [\"caption\", \"article_id\", \"cos_sim\"]\n",
    "    # Run similarity Search\n",
    "    data[\"cos_sim\"] = data[\"img_embeddings\"].apply(lambda x: cosine_similarity(query_vect, x))# line 17\n",
    "    data[\"cos_sim\"] = data[\"cos_sim\"].apply(lambda x: x[0][0])\n",
    "    \"\"\"\n",
    "    Retrieve top_K (4 is default value) articles similar to the query\n",
    "    \"\"\"\n",
    "    most_similar_articles = data.sort_values(by='cos_sim',  ascending=False)[1:top_K+1] # line 24\n",
    "    \n",
    "    return most_similar_articles[revevant_cols].reset_index()"
   ]
  },
  {
   "cell_type": "code",
   "execution_count": 77,
   "id": "ecd6952b-2cbe-47c4-96e3-17566f0c37c7",
   "metadata": {},
   "outputs": [],
   "source": [
    "test['img_embeddings_ogclip'] = test['article_id'].apply(lambda x: get_single_image_embedding(Image.open(x)))"
   ]
  },
  {
   "cell_type": "code",
   "execution_count": 78,
   "id": "9a673959-fb95-4118-b090-8b79ba5ab7df",
   "metadata": {},
   "outputs": [],
   "source": [
    "test.to_csv('test_data.csv')"
   ]
  },
  {
   "cell_type": "code",
   "execution_count": null,
   "id": "4a053774-ec12-4e6b-a7ae-16e5177cd5d5",
   "metadata": {},
   "outputs": [],
   "source": []
  }
 ],
 "metadata": {
  "kernelspec": {
   "display_name": "Python 3 (ipykernel)",
   "language": "python",
   "name": "python3"
  },
  "language_info": {
   "codemirror_mode": {
    "name": "ipython",
    "version": 3
   },
   "file_extension": ".py",
   "mimetype": "text/x-python",
   "name": "python",
   "nbconvert_exporter": "python",
   "pygments_lexer": "ipython3",
   "version": "3.10.13"
  }
 },
 "nbformat": 4,
 "nbformat_minor": 5
}

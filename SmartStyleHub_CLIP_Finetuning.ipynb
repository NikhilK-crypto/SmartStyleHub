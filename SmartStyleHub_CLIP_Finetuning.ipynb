{
 "cells": [
  {
   "cell_type": "code",
   "execution_count": 1,
   "metadata": {},
   "outputs": [],
   "source": [
    "#!pip install transformers"
   ]
  },
  {
   "cell_type": "code",
   "execution_count": 2,
   "metadata": {},
   "outputs": [],
   "source": [
    "#!pip install torch"
   ]
  },
  {
   "cell_type": "code",
   "execution_count": 3,
   "metadata": {},
   "outputs": [],
   "source": [
    "#!pip install torch==1.13.1"
   ]
  },
  {
   "cell_type": "code",
   "execution_count": 4,
   "metadata": {},
   "outputs": [],
   "source": [
    "#!pip install datasets"
   ]
  },
  {
   "cell_type": "code",
   "execution_count": 5,
   "metadata": {},
   "outputs": [],
   "source": [
    "#!pip install clip"
   ]
  },
  {
   "cell_type": "code",
   "execution_count": 6,
   "metadata": {},
   "outputs": [],
   "source": [
    "import os\n",
    "import torch\n",
    "import skimage\n",
    "import requests\n",
    "import numpy as np\n",
    "import pandas as pd\n",
    "from PIL import Image\n",
    "from io import BytesIO\n",
    "import IPython.display\n",
    "import matplotlib.pyplot as plt\n",
    "from datasets import load_dataset\n",
    "from collections import OrderedDict\n",
    "from transformers import CLIPProcessor, CLIPModel, CLIPTokenizer\n",
    "import json\n",
    "from tqdm import tqdm\n",
    "import torch\n",
    "import torch.nn as nn\n",
    "from torch.utils.data import DataLoader\n",
    "import matplotlib.pyplot as plt\n",
    "from sklearn.model_selection import train_test_split\n",
    "import clip\n",
    "import zipfile"
   ]
  },
  {
   "cell_type": "markdown",
   "metadata": {},
   "source": [
    "Loading the csv file containing selected articles after EDA"
   ]
  },
  {
   "cell_type": "code",
   "execution_count": 7,
   "metadata": {},
   "outputs": [],
   "source": [
    "articles=pd.read_csv('selected_articles.csv',index_col=0)"
   ]
  },
  {
   "cell_type": "code",
   "execution_count": 8,
   "metadata": {},
   "outputs": [],
   "source": [
    "# Adding the missing 0 to the article id and converting it to string as per the original dataset\n",
    "articles['article_id'] = articles['article_id'].astype(str)\n",
    "articles['article_id']=[\"0\"+x for x in articles['article_id']]"
   ]
  },
  {
   "cell_type": "markdown",
   "metadata": {},
   "source": [
    "Get the image path corresponding to each article id from zipped folders. We're adding the paths to the dataframe in a separate column.\n",
    "This will be used later to load the images during model training"
   ]
  },
  {
   "cell_type": "code",
   "execution_count": 10,
   "metadata": {},
   "outputs": [],
   "source": [
    "zip_file_path_1='H&M_dataset/selected_images_1.zip'\n",
    "zip_file_path_2='H&M_dataset/selected_images.zip'\n",
    "\n",
    "with zipfile.ZipFile(zip_file_path_1, 'r') as zip_ref:\n",
    "        files_in_zip_1 = zip_ref.namelist()\n",
    "        \n",
    "with zipfile.ZipFile(zip_file_path_2, 'r') as zip_ref:\n",
    "        files_in_zip_2 = zip_ref.namelist()\n",
    "\n",
    "df['image_path'] = None\n",
    "\n",
    "article_ids_1 = [file.split('/')[1].split('.')[0] for file in files_in_zip_1]\n",
    "article_ids_2 = [file.split('/')[1].split('.')[0] for file in files_in_zip_2]\n",
    "\n",
    "# Create a dictionary to map article IDs to file paths\n",
    "id_to_path_mapping_1 = {file.split('/')[1].split('.')[0]: file for file in files_in_zip_1}\n",
    "id_to_path_mapping_2 = {file.split('/')[1].split('.')[0]: file for file in files_in_zip_2}\n",
    "\n",
    "id_to_path_mapping_1.update(id_to_path_mapping_2)\n",
    "\n",
    "# Update the image_path column using vectorized operations\n",
    "df['image_path'] = df['article_id'].map(id_to_path_mapping_1)"
   ]
  },
  {
   "cell_type": "code",
   "execution_count": 15,
   "metadata": {},
   "outputs": [
    {
     "data": {
      "text/html": [
       "<div>\n",
       "<style scoped>\n",
       "    .dataframe tbody tr th:only-of-type {\n",
       "        vertical-align: middle;\n",
       "    }\n",
       "\n",
       "    .dataframe tbody tr th {\n",
       "        vertical-align: top;\n",
       "    }\n",
       "\n",
       "    .dataframe thead th {\n",
       "        text-align: right;\n",
       "    }\n",
       "</style>\n",
       "<table border=\"1\" class=\"dataframe\">\n",
       "  <thead>\n",
       "    <tr style=\"text-align: right;\">\n",
       "      <th></th>\n",
       "      <th>article_id</th>\n",
       "      <th>caption</th>\n",
       "      <th>image_path</th>\n",
       "    </tr>\n",
       "  </thead>\n",
       "  <tbody>\n",
       "    <tr>\n",
       "      <th>0</th>\n",
       "      <td>0108775015</td>\n",
       "      <td>womens Solid Black Vest top, Jersey top with n...</td>\n",
       "      <td>selected_images_1/0108775015.jpg</td>\n",
       "    </tr>\n",
       "    <tr>\n",
       "      <th>1</th>\n",
       "      <td>0108775044</td>\n",
       "      <td>womens Solid White Vest top, Jersey top with n...</td>\n",
       "      <td>selected_images_1/0108775044.jpg</td>\n",
       "    </tr>\n",
       "    <tr>\n",
       "      <th>2</th>\n",
       "      <td>0108775051</td>\n",
       "      <td>womens Stripe Off White Vest top, Jersey top w...</td>\n",
       "      <td>selected_images_1/0108775051.jpg</td>\n",
       "    </tr>\n",
       "    <tr>\n",
       "      <th>3</th>\n",
       "      <td>0111586001</td>\n",
       "      <td>womens Solid Black Leggings, Tights with built...</td>\n",
       "      <td>selected_images_1/0111586001.jpg</td>\n",
       "    </tr>\n",
       "    <tr>\n",
       "      <th>6</th>\n",
       "      <td>0116379047</td>\n",
       "      <td>womens Solid Dark Blue Top, Fitted top in soft...</td>\n",
       "      <td>selected_images_1/0116379047.jpg</td>\n",
       "    </tr>\n",
       "    <tr>\n",
       "      <th>...</th>\n",
       "      <td>...</td>\n",
       "      <td>...</td>\n",
       "      <td>...</td>\n",
       "    </tr>\n",
       "    <tr>\n",
       "      <th>84371</th>\n",
       "      <td>0952937003</td>\n",
       "      <td>womens All over pattern Beige Dress, Fitted, c...</td>\n",
       "      <td>selected_images/0952937003.jpg</td>\n",
       "    </tr>\n",
       "    <tr>\n",
       "      <th>84372</th>\n",
       "      <td>0952938001</td>\n",
       "      <td>womens All over pattern Beige Top, Fitted top ...</td>\n",
       "      <td>selected_images/0952938001.jpg</td>\n",
       "    </tr>\n",
       "    <tr>\n",
       "      <th>84373</th>\n",
       "      <td>0953763001</td>\n",
       "      <td>womens Solid Black Vest top, Loose-fitting spo...</td>\n",
       "      <td>selected_images/0953763001.jpg</td>\n",
       "    </tr>\n",
       "    <tr>\n",
       "      <th>84374</th>\n",
       "      <td>0956217002</td>\n",
       "      <td>womens Solid Black Dress, Short, A-line dress ...</td>\n",
       "      <td>selected_images/0956217002.jpg</td>\n",
       "    </tr>\n",
       "    <tr>\n",
       "      <th>84375</th>\n",
       "      <td>0959461001</td>\n",
       "      <td>womens Solid Off White Dress, Calf-length dres...</td>\n",
       "      <td>selected_images/0959461001.jpg</td>\n",
       "    </tr>\n",
       "  </tbody>\n",
       "</table>\n",
       "<p>55332 rows × 3 columns</p>\n",
       "</div>"
      ],
      "text/plain": [
       "       article_id                                            caption  \\\n",
       "0      0108775015  womens Solid Black Vest top, Jersey top with n...   \n",
       "1      0108775044  womens Solid White Vest top, Jersey top with n...   \n",
       "2      0108775051  womens Stripe Off White Vest top, Jersey top w...   \n",
       "3      0111586001  womens Solid Black Leggings, Tights with built...   \n",
       "6      0116379047  womens Solid Dark Blue Top, Fitted top in soft...   \n",
       "...           ...                                                ...   \n",
       "84371  0952937003  womens All over pattern Beige Dress, Fitted, c...   \n",
       "84372  0952938001  womens All over pattern Beige Top, Fitted top ...   \n",
       "84373  0953763001  womens Solid Black Vest top, Loose-fitting spo...   \n",
       "84374  0956217002  womens Solid Black Dress, Short, A-line dress ...   \n",
       "84375  0959461001  womens Solid Off White Dress, Calf-length dres...   \n",
       "\n",
       "                             image_path  \n",
       "0      selected_images_1/0108775015.jpg  \n",
       "1      selected_images_1/0108775044.jpg  \n",
       "2      selected_images_1/0108775051.jpg  \n",
       "3      selected_images_1/0111586001.jpg  \n",
       "6      selected_images_1/0116379047.jpg  \n",
       "...                                 ...  \n",
       "84371    selected_images/0952937003.jpg  \n",
       "84372    selected_images/0952938001.jpg  \n",
       "84373    selected_images/0953763001.jpg  \n",
       "84374    selected_images/0956217002.jpg  \n",
       "84375    selected_images/0959461001.jpg  \n",
       "\n",
       "[55332 rows x 3 columns]"
      ]
     },
     "execution_count": 15,
     "metadata": {},
     "output_type": "execute_result"
    }
   ],
   "source": [
    "df"
   ]
  },
  {
   "cell_type": "markdown",
   "metadata": {},
   "source": [
    "Dropping NA values"
   ]
  },
  {
   "cell_type": "code",
   "execution_count": 17,
   "metadata": {},
   "outputs": [],
   "source": [
    "df_cleaned = df.dropna()"
   ]
  },
  {
   "cell_type": "markdown",
   "metadata": {},
   "source": [
    "Splitting into train, validation and test datasets"
   ]
  },
  {
   "cell_type": "code",
   "execution_count": 19,
   "metadata": {},
   "outputs": [],
   "source": [
    "X_train, X_test, y_train, y_test = train_test_split(df_cleaned['image_path'], df_cleaned['caption'], test_size=0.2, random_state=1)\n",
    "X_train, X_val, y_train, y_val = train_test_split(X_train, y_train, test_size=0.25, random_state=1)\n",
    "\n",
    "train_data = pd.DataFrame({'image_path':X_train.values, 'caption': y_train.values})\n",
    "val_data = pd.DataFrame({'image_path':X_val.values, 'caption': y_val.values})\n",
    "test_data = pd.DataFrame({'image_path':X_test.values, 'caption': y_test.values})"
   ]
  },
  {
   "cell_type": "markdown",
   "metadata": {},
   "source": [
    "Here we define a few functions and a class to load the CLIP model and prepare the dataset"
   ]
  },
  {
   "cell_type": "code",
   "execution_count": 25,
   "metadata": {},
   "outputs": [],
   "source": [
    "def get_model_info(model_ID, device):\n",
    "    # Save the model to device\n",
    "    model = CLIPModel.from_pretrained(model_ID).to(device)\n",
    "    # Get the processor\n",
    "    processor = CLIPProcessor.from_pretrained(model_ID)\n",
    "    # Get the tokenizer\n",
    "    tokenizer = CLIPTokenizer.from_pretrained(model_ID)\n",
    "       # Return model, processor & tokenizer\n",
    "    return model, processor, tokenizer\n",
    "# Set the device\n",
    "device = \"cuda\" if torch.cuda.is_available() else \"cpu\"\n",
    "# Define the model ID\n",
    "model_ID = \"openai/clip-vit-base-patch32\"\n",
    "# Get model, processor & tokenizer\n",
    "model, processor, tokenizer = get_model_info(model_ID, device)"
   ]
  },
  {
   "cell_type": "code",
   "execution_count": 21,
   "metadata": {},
   "outputs": [],
   "source": [
    "z1 = zipfile.ZipFile('H&M_dataset/selected_images_1.zip')\n",
    "z2 = zipfile.ZipFile('H&M_dataset/selected_images.zip')\n",
    "\n",
    "def get_image(image_path_inside_zip):\n",
    "    if image_path_inside_zip in z1.namelist():\n",
    "        # Extract the specific image file\n",
    "        image = z1.read(image_path_inside_zip)\n",
    "\n",
    "    elif image_path_inside_zip in z2.namelist():\n",
    "        image = z2.read(image_path_inside_zip)\n",
    "        \n",
    "    #image = Image.open(BytesIO(image)).convert(\"RGB\")\n",
    "    return image"
   ]
  },
  {
   "cell_type": "code",
   "execution_count": 23,
   "metadata": {},
   "outputs": [],
   "source": [
    "class image_title_dataset():\n",
    "    def __init__(self, list_image_path,list_txt):\n",
    "        # Initialize image paths and corresponding texts\n",
    "        self.image_path = list_image_path\n",
    "        self.title  = list_txt\n",
    "\n",
    "    def __len__(self):\n",
    "        return len(self.title)\n",
    "\n",
    "    def __getitem__(self, idx):\n",
    "\n",
    "        return self.image_path[idx], self.title[idx]"
   ]
  },
  {
   "cell_type": "markdown",
   "metadata": {},
   "source": [
    "Prepare the dataset and create a dataloader object out of it"
   ]
  },
  {
   "cell_type": "code",
   "execution_count": 42,
   "metadata": {},
   "outputs": [],
   "source": [
    "# use your own data\n",
    "list_image_path_train = []\n",
    "list_txt_train = []\n",
    "list_image_path_val = []\n",
    "list_txt_val = []\n",
    "\n",
    "for index,item in train_data.iterrows():\n",
    "    if index==500:\n",
    "        break\n",
    "    img_path = item['image_path'] #+ item['image_path'].split('/')[-1]\n",
    "    #print(img_path)\n",
    "    #print(item['caption'][:40])\n",
    "    caption = item['caption'][:77]\n",
    "    list_image_path_train.append(img_path)\n",
    "    list_txt_train.append(caption)\n",
    "    \n",
    "for index,item in val_data.iterrows():\n",
    "    if index==100:\n",
    "        break\n",
    "    img_path = item['image_path'] #+ item['image_path'].split('/')[-1]\n",
    "    #print(img_path)\n",
    "    caption = item['caption'][:77]\n",
    "    list_image_path_val.append(img_path)\n",
    "    list_txt_val.append(caption)"
   ]
  },
  {
   "cell_type": "code",
   "execution_count": 43,
   "metadata": {},
   "outputs": [],
   "source": [
    "train_dataset = image_title_dataset(list_image_path_train, list_txt_train)\n",
    "val_dataset = image_title_dataset(list_image_path_val, list_txt_val)\n",
    "\n",
    "train_dataloader = DataLoader(train_dataset, batch_size=50, shuffle=True) #Define your own dataloader\n",
    "val_dataloader = DataLoader(val_dataset, batch_size=10, shuffle=True)"
   ]
  },
  {
   "cell_type": "code",
   "execution_count": 28,
   "metadata": {},
   "outputs": [],
   "source": [
    "# first_batch = next(iter(train_dataloader))\n",
    "\n",
    "# # Print the first batch\n",
    "# print(first_batch[0][0])\n",
    "# x=[]\n",
    "# x.append(Image.open(BytesIO(get_image(first_batch[0][0]))).convert(\"RGB\").resize((100, 100)))\n",
    "\n",
    "# next_batch = next(iter(train_dataloader))\n",
    "\n",
    "# x.append(Image.open(BytesIO(get_image(next_batch[0][0]))).convert(\"RGB\").resize((100, 100)))"
   ]
  },
  {
   "cell_type": "markdown",
   "metadata": {},
   "source": [
    "Set model parameters"
   ]
  },
  {
   "cell_type": "code",
   "execution_count": 29,
   "metadata": {},
   "outputs": [],
   "source": [
    "#Function to convert model's parameters to FP32 format\n",
    "def convert_models_to_fp32(model): \n",
    "    for p in model.parameters(): \n",
    "        p.data = p.data.float() \n",
    "        p.grad.data = p.grad.data.float() \n",
    "\n",
    "\n",
    "if device == \"cpu\":\n",
    "    model.float()\n",
    "\n",
    "# Prepare the optimizer\n",
    "optimizer = torch.optim.Adam(model.parameters(), lr=5e-5,betas=(0.9,0.98),eps=1e-6,weight_decay=0.2) # the lr is smaller, more safe for fine tuning to new dataset\n",
    "\n",
    "\n",
    "# Specify the loss function\n",
    "loss_img = nn.CrossEntropyLoss()\n",
    "loss_txt = nn.CrossEntropyLoss()"
   ]
  },
  {
   "cell_type": "markdown",
   "metadata": {},
   "source": [
    "Model training"
   ]
  },
  {
   "cell_type": "code",
   "execution_count": 44,
   "metadata": {},
   "outputs": [
    {
     "name": "stderr",
     "output_type": "stream",
     "text": [
      "Epoch 1 - Training: 100%|██████████| 10/10 [05:02<00:00, 30.29s/it]\n",
      "Epoch 1 - Validation: 100%|██████████| 10/10 [01:00<00:00,  6.05s/it]\n"
     ]
    },
    {
     "name": "stdout",
     "output_type": "stream",
     "text": [
      "Epoch 1 - Train Loss: 2.5610, Validation Loss: 1.1274\n"
     ]
    },
    {
     "name": "stderr",
     "output_type": "stream",
     "text": [
      "Epoch 2 - Training: 100%|██████████| 10/10 [05:02<00:00, 30.23s/it]\n",
      "Epoch 2 - Validation: 100%|██████████| 10/10 [01:00<00:00,  6.07s/it]\n"
     ]
    },
    {
     "name": "stdout",
     "output_type": "stream",
     "text": [
      "Epoch 2 - Train Loss: 2.1148, Validation Loss: 1.0099\n"
     ]
    },
    {
     "name": "stderr",
     "output_type": "stream",
     "text": [
      "Epoch 3 - Training: 100%|██████████| 10/10 [05:00<00:00, 30.09s/it]\n",
      "Epoch 3 - Validation: 100%|██████████| 10/10 [01:00<00:00,  6.06s/it]"
     ]
    },
    {
     "name": "stdout",
     "output_type": "stream",
     "text": [
      "Epoch 3 - Train Loss: 1.9075, Validation Loss: 0.8682\n"
     ]
    },
    {
     "name": "stderr",
     "output_type": "stream",
     "text": [
      "\n"
     ]
    }
   ],
   "source": [
    "# Train the model\n",
    "num_epochs = 3\n",
    "train_loss_per_epoch=[]\n",
    "val_loss_per_epoch=[]\n",
    "\n",
    "for epoch in range(num_epochs):\n",
    "    train_losses=0\n",
    "\n",
    "    with tqdm(total=len(train_dataloader), desc=f'Epoch {epoch + 1} - Training') as pbar_train:\n",
    "        for images, texts in train_dataloader:\n",
    "            optimizer.zero_grad()\n",
    "            #print(images)\n",
    "#             images=images.to(device)\n",
    "#             texts=texts.to(device)\n",
    "            #print(\"hi\")\n",
    "            #image_names=[print(img) for img in images]\n",
    "            #print(image_names)\n",
    "            #print(\"\\nhi\")\n",
    "            image_list=[Image.open(BytesIO(get_image(img))).convert(\"RGB\").resize((100, 100)) for img in images]\n",
    "            #print(image_list)\n",
    "            #image_list = [Image.open(BytesIO((requests.get(img)).content)).convert(\"RGB\") for img in images]\n",
    "            inputs = processor(text=texts, images=image_list, return_tensors=\"pt\", padding=True)\n",
    "            inputs=inputs.to(device)\n",
    "            #print(inputs)\n",
    "            outputs = model(**inputs)\n",
    "            logits_per_image, logits_per_text = outputs.logits_per_image, outputs.logits_per_text\n",
    "\n",
    "            # Compute loss\n",
    "            ground_truth = torch.arange(len(images),dtype=torch.long,device=device)\n",
    "            total_loss = (loss_img(logits_per_image,ground_truth) + loss_txt(logits_per_text,ground_truth))/2\n",
    "\n",
    "            # Backward pass\n",
    "            total_loss.backward()\n",
    "            if device == \"cpu\":\n",
    "                optimizer.step()\n",
    "                #optimizer.zero_grad()\n",
    "            else : \n",
    "                convert_models_to_fp32(model)\n",
    "                optimizer.step()\n",
    "                #optimizer.zero_grad()\n",
    "                #clip.model.convert_weights(model)\n",
    "            train_losses += total_loss.item()\n",
    "            pbar_train.update(1)\n",
    "            \n",
    "        final_train_loss=train_losses/len(train_dataloader)\n",
    "    \n",
    "    val_losses=0\n",
    "\n",
    "    with torch.no_grad():\n",
    "        with tqdm(total=len(val_dataloader), desc=f'Epoch {epoch + 1} - Validation') as pbar_val:\n",
    "            for images, texts in val_dataloader:\n",
    "\n",
    "                image_list=[Image.open(BytesIO(get_image(img))).convert(\"RGB\").resize((100, 100)) for img in images]\n",
    "                #image_list = [Image.open(BytesIO((requests.get(img)).content)).convert(\"RGB\") for img in images]\n",
    "\n",
    "                inputs = processor(text=texts, images=image_list, return_tensors=\"pt\", padding=True)\n",
    "                \n",
    "                inputs=inputs.to(device)\n",
    "                outputs = model(**inputs)\n",
    "                logits_per_image, logits_per_text = outputs.logits_per_image, outputs.logits_per_text\n",
    "\n",
    "                # Compute loss\n",
    "                ground_truth = torch.arange(len(images),dtype=torch.long,device=device)\n",
    "                total_loss = (loss_img(logits_per_image,ground_truth) + loss_txt(logits_per_text,ground_truth))/2\n",
    "\n",
    "                val_losses += total_loss.item()\n",
    "                pbar_val.update(1)\n",
    "                \n",
    "            final_val_loss=val_losses/len(val_dataloader)\n",
    "\n",
    "    print(f'Epoch {epoch + 1} - Train Loss: {final_train_loss:.4f}, Validation Loss: {final_val_loss:.4f}')\n",
    "    train_loss_per_epoch.append(final_train_loss)\n",
    "    val_loss_per_epoch.append(final_val_loss)"
   ]
  },
  {
   "cell_type": "markdown",
   "metadata": {},
   "source": [
    "Plot train and validation losses"
   ]
  },
  {
   "cell_type": "code",
   "execution_count": 45,
   "metadata": {},
   "outputs": [
    {
     "data": {
      "image/png": "[encoded data removed]",
      "text/plain": [
       "<Figure size 432x288 with 1 Axes>"
      ]
     },
     "metadata": {
      "needs_background": "light"
     },
     "output_type": "display_data"
    }
   ],
   "source": [
    "plt.plot(range(1, num_epochs+1), train_loss_per_epoch, label='Train Loss')\n",
    "plt.plot(range(1, num_epochs+1), val_loss_per_epoch, label='Validation Loss')\n",
    "plt.xlabel('Epoch')\n",
    "plt.ylabel('Loss')\n",
    "plt.legend()\n",
    "plt.show()"
   ]
  }
 ],
 "metadata": {
  "kernelspec": {
   "display_name": "Python 3",
   "language": "python",
   "name": "python3"
  },
  "language_info": {
   "codemirror_mode": {
    "name": "ipython",
    "version": 3
   },
   "file_extension": ".py",
   "mimetype": "text/x-python",
   "name": "python",
   "nbconvert_exporter": "python",
   "pygments_lexer": "ipython3",
   "version": "3.7.6"
  }
 },
 "nbformat": 4,
 "nbformat_minor": 4
}

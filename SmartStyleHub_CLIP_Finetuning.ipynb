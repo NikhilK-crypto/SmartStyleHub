{
  "cells": [
    {
      "cell_type": "code",
      "execution_count": null,
      "metadata": {
        "id": "NQlGzg7dDENB"
      },
      "outputs": [],
      "source": [
        "#!pip install transformers\n",
        "\n",
        "#!pip install torch\n",
        "\n",
        "#!pip install torch==1.13.1\n",
        "\n",
        "#!pip install datasets\n",
        "\n",
        "#!pip install clip"
      ]
    },
    {
      "cell_type": "code",
      "execution_count": null,
      "metadata": {
        "id": "jCOa2BNoDENC"
      },
      "outputs": [],
      "source": [
        "import os\n",
        "import torch\n",
        "import skimage\n",
        "import requests\n",
        "import numpy as np\n",
        "import pandas as pd\n",
        "from PIL import Image\n",
        "from io import BytesIO\n",
        "import IPython.display\n",
        "import matplotlib.pyplot as plt\n",
        "from datasets import load_dataset\n",
        "from collections import OrderedDict\n",
        "from transformers import CLIPProcessor, CLIPModel, CLIPTokenizer\n",
        "import json\n",
        "from tqdm import tqdm\n",
        "import torch\n",
        "import torch.nn as nn\n",
        "from torch.utils.data import DataLoader\n",
        "import matplotlib.pyplot as plt\n",
        "from sklearn.model_selection import train_test_split\n",
        "import clip\n",
        "import zipfile"
      ]
    },
    {
      "cell_type": "markdown",
      "metadata": {
        "id": "1dzw_1QxDEND"
      },
      "source": [
        "Load the csv file containing selected articles"
      ]
    },
    {
      "cell_type": "code",
      "execution_count": null,
      "metadata": {
        "id": "TqDIgXrxDEND"
      },
      "outputs": [],
      "source": [
        "articles=pd.read_csv('selected_articles.csv',index_col=0)"
      ]
    },
    {
      "cell_type": "code",
      "execution_count": null,
      "metadata": {
        "id": "576cfs2UDENE"
      },
      "outputs": [],
      "source": [
        "# Adding the missing 0 to the article id and converting it to string as per the original dataset\n",
        "articles['article_id'] = articles['article_id'].astype(str)\n",
        "articles['article_id']=[\"0\"+x for x in articles['article_id']]"
      ]
    },
    {
      "cell_type": "code",
      "execution_count": null,
      "metadata": {
        "id": "5AiYQ3VZDENE"
      },
      "outputs": [],
      "source": [
        "df = articles[['article_id','caption']]"
      ]
    },
    {
      "cell_type": "markdown",
      "metadata": {
        "id": "8iQqGPWKDENE"
      },
      "source": [
        "Get the image path corresponding to each article id from zipped folders. We're adding the paths to the dataframe in a separate column.\n",
        "This will be used later to load the images during model training"
      ]
    },
    {
      "cell_type": "code",
      "execution_count": null,
      "metadata": {
        "id": "_AaBacmCDENE"
      },
      "outputs": [],
      "source": [
        "z1 = zipfile.ZipFile('H&M_dataset/selected_images_1.zip')\n",
        "files_in_zip_1 = z1.namelist()"
      ]
    },
    {
      "cell_type": "code",
      "execution_count": null,
      "metadata": {
        "id": "HQg3O8YSDENE"
      },
      "outputs": [],
      "source": [
        "id_to_path_mapping = {file.split('/')[1].split('.')[0]: file for file in files_in_zip_1}\n",
        "df['image_path'] = df['article_id'].map(id_to_path_mapping)\n",
        "\n",
        "del id_to_path_mapping"
      ]
    },
    {
      "cell_type": "markdown",
      "source": [
        "Remove missing values"
      ],
      "metadata": {
        "id": "J7OALZUBFCSO"
      }
    },
    {
      "cell_type": "code",
      "execution_count": null,
      "metadata": {
        "id": "g8VA8lEFDENF"
      },
      "outputs": [],
      "source": [
        "df = df.dropna()"
      ]
    },
    {
      "cell_type": "markdown",
      "metadata": {
        "id": "7AxQAtXODENG"
      },
      "source": [
        "Splitting into train, validation and test datasets"
      ]
    },
    {
      "cell_type": "code",
      "execution_count": null,
      "metadata": {
        "id": "9v51wyHKDENG"
      },
      "outputs": [],
      "source": [
        "X_train, X_test, y_train, y_test = train_test_split(df['image_path'], df['caption'], test_size=0.2, random_state=1)\n",
        "X_train, X_val, y_train, y_val = train_test_split(X_train, y_train, test_size=0.25, random_state=1)\n",
        "\n",
        "train_data = pd.DataFrame({'image_path':X_train.values, 'caption': y_train.values})\n",
        "val_data = pd.DataFrame({'image_path':X_val.values, 'caption': y_val.values})\n",
        "test_data = pd.DataFrame({'image_path':X_test.values, 'caption': y_test.values})"
      ]
    },
    {
      "cell_type": "markdown",
      "metadata": {
        "id": "-nDgQDZXDENG"
      },
      "source": [
        "Here we define a few functions and a class to load the CLIP model and prepare the dataset"
      ]
    },
    {
      "cell_type": "code",
      "execution_count": null,
      "metadata": {
        "id": "qQO9hfw7DENH"
      },
      "outputs": [],
      "source": [
        "# Function to get CLIP model, processor and tokenizer\n",
        "def get_model_info(model_ID, device):\n",
        "\n",
        "    model = CLIPModel.from_pretrained(model_ID).to(device)\n",
        "    processor = CLIPProcessor.from_pretrained(model_ID)\n",
        "    tokenizer = CLIPTokenizer.from_pretrained(model_ID)\n",
        "\n",
        "    return model, processor, tokenizer"
      ]
    },
    {
      "cell_type": "code",
      "source": [
        "# Function to convert model's parameters to FP32 format\n",
        "def convert_models_to_fp32(model):\n",
        "\n",
        "    for p in model.parameters():\n",
        "        p.data = p.data.float()\n",
        "        p.grad.data = p.grad.data.float()"
      ],
      "metadata": {
        "id": "LOYt30ifHafF"
      },
      "execution_count": null,
      "outputs": []
    },
    {
      "cell_type": "code",
      "execution_count": null,
      "metadata": {
        "id": "EDU08n7FDENF"
      },
      "outputs": [],
      "source": [
        "# Function to extract images from the given image path and store them as PIL objects\n",
        "def get_image(image_path):\n",
        "    if image_path in z1.namelist():\n",
        "        image = Image.open(BytesIO(z1.read(image_path))).convert(\"RGB\")\n",
        "\n",
        "    return image"
      ]
    },
    {
      "cell_type": "code",
      "execution_count": null,
      "metadata": {
        "id": "tvI5OHpbDENH"
      },
      "outputs": [],
      "source": [
        "# Defining a class to prepare dataset for batch processing\n",
        "class image_title_dataset():\n",
        "    def __init__(self, list_image_path,list_txt):\n",
        "\n",
        "        self.image_path = list_image_path\n",
        "        self.title  = list_txt\n",
        "\n",
        "    def __len__(self):\n",
        "        return len(self.title)\n",
        "\n",
        "    def __getitem__(self, idx):\n",
        "\n",
        "        return self.image_path[idx], self.title[idx]"
      ]
    },
    {
      "cell_type": "markdown",
      "metadata": {
        "id": "MYcGul_WDENH"
      },
      "source": [
        "Prepare the dataset and create batches"
      ]
    },
    {
      "cell_type": "code",
      "execution_count": null,
      "metadata": {
        "id": "n9VnBKzKDENH"
      },
      "outputs": [],
      "source": [
        "list_image_path_train = []\n",
        "list_txt_train = []\n",
        "list_image_path_val = []\n",
        "list_txt_val = []\n",
        "\n",
        "for index,item in train_data.iterrows():\n",
        "    # Taking first 2000 image caption pairs from train data\n",
        "    if index==2000:\n",
        "        break\n",
        "    img_path = item['image_path']\n",
        "    caption = item['caption'][:77]\n",
        "    list_image_path_train.append(img_path)\n",
        "    list_txt_train.append(caption)\n",
        "\n",
        "for index,item in val_data.iterrows():\n",
        "  # Taking first 1000 image caption pairs from validation data\n",
        "    if index==1000:\n",
        "        break\n",
        "    img_path = item['image_path']\n",
        "    caption = item['caption'][:77]\n",
        "    list_image_path_val.append(img_path)\n",
        "    list_txt_val.append(caption)\n",
        "\n",
        "\n",
        "train_dataset = image_title_dataset(list_image_path_train, list_txt_train)\n",
        "val_dataset = image_title_dataset(list_image_path_val, list_txt_val)\n",
        "\n",
        "train_dataloader = DataLoader(train_dataset, batch_size=200, shuffle=True)\n",
        "val_dataloader = DataLoader(val_dataset, batch_size=100, shuffle=True)"
      ]
    },
    {
      "cell_type": "markdown",
      "metadata": {
        "id": "FLxwFwBZDENH"
      },
      "source": [
        "Load CLIP model and set model parameters"
      ]
    },
    {
      "cell_type": "code",
      "source": [
        "device = \"cuda\" if torch.cuda.is_available() else \"cpu\"\n",
        "model_ID = \"openai/clip-vit-base-patch32\"\n",
        "\n",
        "model, processor, tokenizer = get_model_info(model_ID, device)\n",
        "\n",
        "if device == \"cpu\":\n",
        "    model.float()\n",
        "\n",
        "optimizer = torch.optim.Adam(model.parameters(), lr=5e-5,betas=(0.9,0.98),eps=1e-6,weight_decay=0.2) # the lr is smaller, more safe for fine tuning to new dataset\n",
        "\n",
        "loss_img = nn.CrossEntropyLoss()\n",
        "loss_txt = nn.CrossEntropyLoss()"
      ],
      "metadata": {
        "id": "3JNDAHT9HVF7"
      },
      "execution_count": null,
      "outputs": []
    },
    {
      "cell_type": "markdown",
      "metadata": {
        "id": "k670ObZqDENH"
      },
      "source": [
        "Model finetuning on train data and evaluation on validation data"
      ]
    },
    {
      "cell_type": "code",
      "execution_count": null,
      "metadata": {
        "id": "OOb13rxlDENH",
        "outputId": "e502aebe-1780-4270-d3b7-97a8cf3e397c"
      },
      "outputs": [
        {
          "name": "stderr",
          "output_type": "stream",
          "text": [
            "Epoch 1 - Training: 100%|██████████| 10/10 [18:44<00:00, 112.41s/it]\n",
            "Epoch 1 - Validation: 100%|██████████| 10/10 [08:41<00:00, 52.13s/it]\n"
          ]
        },
        {
          "name": "stdout",
          "output_type": "stream",
          "text": [
            "Epoch 1 - Train Loss: 3.4947, Validation Loss: 2.2920\n"
          ]
        },
        {
          "name": "stderr",
          "output_type": "stream",
          "text": [
            "Epoch 2 - Training: 100%|██████████| 10/10 [18:10<00:00, 109.04s/it]\n",
            "Epoch 2 - Validation: 100%|██████████| 10/10 [08:48<00:00, 52.84s/it]\n"
          ]
        },
        {
          "name": "stdout",
          "output_type": "stream",
          "text": [
            "Epoch 2 - Train Loss: 2.3198, Validation Loss: 1.4726\n"
          ]
        },
        {
          "name": "stderr",
          "output_type": "stream",
          "text": [
            "Epoch 3 - Training: 100%|██████████| 10/10 [18:11<00:00, 109.11s/it]\n",
            "Epoch 3 - Validation: 100%|██████████| 10/10 [08:37<00:00, 51.73s/it]"
          ]
        },
        {
          "name": "stdout",
          "output_type": "stream",
          "text": [
            "Epoch 3 - Train Loss: 1.5557, Validation Loss: 1.1873\n"
          ]
        },
        {
          "name": "stderr",
          "output_type": "stream",
          "text": [
            "\n"
          ]
        }
      ],
      "source": [
        "num_epochs = 3\n",
        "train_loss_per_epoch=[]\n",
        "val_loss_per_epoch=[]\n",
        "\n",
        "\n",
        "for epoch in range(num_epochs):\n",
        "\n",
        "    # Finetuning on train data\n",
        "    train_losses=0\n",
        "\n",
        "    with tqdm(total=len(train_dataloader), desc=f'Epoch {epoch + 1} - Training') as pbar_train:\n",
        "\n",
        "        # Processing for each train batch\n",
        "        for images, texts in train_dataloader:\n",
        "            optimizer.zero_grad()\n",
        "\n",
        "            # Load images from image paths\n",
        "            image_list=[get_image(img) for img in images]\n",
        "\n",
        "            # Encode the images and texts using CLIP's processor\n",
        "            inputs = processor(text=texts, images=image_list, return_tensors=\"pt\", padding=True)\n",
        "            inputs=inputs.to(device)\n",
        "\n",
        "            # Get image and text embeddings using CLIP model\n",
        "            outputs = model(**inputs)\n",
        "\n",
        "            # Get similarity scores between the image-text embeddings\n",
        "            logits_per_image, logits_per_text = outputs.logits_per_image, outputs.logits_per_text\n",
        "\n",
        "            # Compute loss\n",
        "            ground_truth = torch.arange(len(images),dtype=torch.long,device=device)\n",
        "            total_loss = (loss_img(logits_per_image,ground_truth) + loss_txt(logits_per_text,ground_truth))/2\n",
        "\n",
        "            # Perform backward pass\n",
        "            total_loss.backward()\n",
        "            if device == \"cpu\":\n",
        "                optimizer.step()\n",
        "\n",
        "            else :\n",
        "                convert_models_to_fp32(model)\n",
        "                optimizer.step()\n",
        "                #clip.model.convert_weights(model)\n",
        "\n",
        "            train_losses += total_loss.item()\n",
        "            pbar_train.update(1)\n",
        "\n",
        "        # Get final train loss for the epoch\n",
        "        final_train_loss=train_losses/len(train_dataloader)\n",
        "\n",
        "\n",
        "    # Evaluating on validation data - same as above but without any parameter updates\n",
        "    val_losses=0\n",
        "\n",
        "    with torch.no_grad():\n",
        "        with tqdm(total=len(val_dataloader), desc=f'Epoch {epoch + 1} - Validation') as pbar_val:\n",
        "            for images, texts in val_dataloader:\n",
        "\n",
        "                image_list=[get_image(img) for img in images]\n",
        "                inputs = processor(text=texts, images=image_list, return_tensors=\"pt\", padding=True)\n",
        "\n",
        "                inputs=inputs.to(device)\n",
        "                outputs = model(**inputs)\n",
        "                logits_per_image, logits_per_text = outputs.logits_per_image, outputs.logits_per_text\n",
        "\n",
        "                ground_truth = torch.arange(len(images),dtype=torch.long,device=device)\n",
        "                total_loss = (loss_img(logits_per_image,ground_truth) + loss_txt(logits_per_text,ground_truth))/2\n",
        "\n",
        "                val_losses += total_loss.item()\n",
        "                pbar_val.update(1)\n",
        "\n",
        "            # Get final validation loss for the epoch\n",
        "            final_val_loss=val_losses/len(val_dataloader)\n",
        "\n",
        "    # Print the losses\n",
        "    print(f'Epoch {epoch + 1} - Train Loss: {final_train_loss:.4f}, Validation Loss: {final_val_loss:.4f}')\n",
        "    train_loss_per_epoch.append(final_train_loss)\n",
        "    val_loss_per_epoch.append(final_val_loss)"
      ]
    },
    {
      "cell_type": "markdown",
      "metadata": {
        "id": "CsbqWgVODENI"
      },
      "source": [
        "Plot train and validation losses"
      ]
    },
    {
      "cell_type": "code",
      "execution_count": null,
      "metadata": {
        "id": "-bwFvCidDENI",
        "outputId": "f1a72ee3-9100-4436-b642-c9cf4e1bed3c"
      },
      "outputs": [
        {
          "data": {
            "image/png": "[encoded data removed]",
            "text/plain": [
              "<Figure size 432x288 with 1 Axes>"
            ]
          },
          "metadata": {
            "needs_background": "light"
          },
          "output_type": "display_data"
        }
      ],
      "source": [
        "plt.plot(range(1, num_epochs+1), train_loss_per_epoch, label='Train Loss')\n",
        "plt.plot(range(1, num_epochs+1), val_loss_per_epoch, label='Validation Loss')\n",
        "plt.xlabel('Epoch')\n",
        "plt.ylabel('Loss')\n",
        "plt.legend()\n",
        "plt.show()"
      ]
    },
    {
      "cell_type": "code",
      "source": [],
      "metadata": {
        "id": "dkGLACrOPLcU"
      },
      "execution_count": null,
      "outputs": []
    },
    {
      "cell_type": "code",
      "source": [],
      "metadata": {
        "id": "S9Mb9YkaPLfk"
      },
      "execution_count": null,
      "outputs": []
    },
    {
      "cell_type": "code",
      "source": [],
      "metadata": {
        "id": "iIkPIgbnPLjT"
      },
      "execution_count": null,
      "outputs": []
    },
    {
      "cell_type": "code",
      "source": [],
      "metadata": {
        "id": "Yw1QtVR8PLl4"
      },
      "execution_count": null,
      "outputs": []
    },
    {
      "cell_type": "code",
      "source": [],
      "metadata": {
        "id": "QMyGmEXwPLoi"
      },
      "execution_count": null,
      "outputs": []
    },
    {
      "cell_type": "code",
      "source": [],
      "metadata": {
        "id": "0ghhVewJPLrG"
      },
      "execution_count": null,
      "outputs": []
    },
    {
      "cell_type": "code",
      "source": [],
      "metadata": {
        "id": "Lstn_liuPLuf"
      },
      "execution_count": null,
      "outputs": []
    },
    {
      "cell_type": "code",
      "execution_count": null,
      "metadata": {
        "id": "yteTbzvcDENF"
      },
      "outputs": [],
      "source": [
        "# Example usage of get_image()\n",
        "id_to_image_mapping = {img_path.split('/')[1].split('.')[0]: get_image(img_path) for img_path in df['image_path']}\n",
        "df['image'] = df['article_id'].map(id_to_image_mapping)\n",
        "\n",
        "del id_to_image_mapping"
      ]
    },
    {
      "cell_type": "code",
      "execution_count": null,
      "metadata": {
        "id": "l-Jv1E78DENG",
        "outputId": "08382c92-d0c3-462f-afb0-f0ddd5af9421"
      },
      "outputs": [
        {
          "data": {
            "text/html": [
              "<div>\n",
              "<style scoped>\n",
              "    .dataframe tbody tr th:only-of-type {\n",
              "        vertical-align: middle;\n",
              "    }\n",
              "\n",
              "    .dataframe tbody tr th {\n",
              "        vertical-align: top;\n",
              "    }\n",
              "\n",
              "    .dataframe thead th {\n",
              "        text-align: right;\n",
              "    }\n",
              "</style>\n",
              "<table border=\"1\" class=\"dataframe\">\n",
              "  <thead>\n",
              "    <tr style=\"text-align: right;\">\n",
              "      <th></th>\n",
              "      <th>article_id</th>\n",
              "      <th>caption</th>\n",
              "      <th>image_path</th>\n",
              "      <th>image</th>\n",
              "    </tr>\n",
              "  </thead>\n",
              "  <tbody>\n",
              "    <tr>\n",
              "      <th>0</th>\n",
              "      <td>0108775015</td>\n",
              "      <td>womens Solid Black Vest top, Jersey top with n...</td>\n",
              "      <td>selected_images_1/0108775015.jpg</td>\n",
              "      <td>&lt;PIL.Image.Image image mode=RGB size=1166x1750...</td>\n",
              "    </tr>\n",
              "    <tr>\n",
              "      <th>1</th>\n",
              "      <td>0108775044</td>\n",
              "      <td>womens Solid White Vest top, Jersey top with n...</td>\n",
              "      <td>selected_images_1/0108775044.jpg</td>\n",
              "      <td>&lt;PIL.Image.Image image mode=RGB size=1166x1750...</td>\n",
              "    </tr>\n",
              "    <tr>\n",
              "      <th>2</th>\n",
              "      <td>0108775051</td>\n",
              "      <td>womens Stripe Off White Vest top, Jersey top w...</td>\n",
              "      <td>selected_images_1/0108775051.jpg</td>\n",
              "      <td>&lt;PIL.Image.Image image mode=RGB size=1166x1750...</td>\n",
              "    </tr>\n",
              "    <tr>\n",
              "      <th>3</th>\n",
              "      <td>0111586001</td>\n",
              "      <td>womens Solid Black Leggings, Tights with built...</td>\n",
              "      <td>selected_images_1/0111586001.jpg</td>\n",
              "      <td>&lt;PIL.Image.Image image mode=RGB size=1166x1750...</td>\n",
              "    </tr>\n",
              "    <tr>\n",
              "      <th>6</th>\n",
              "      <td>0116379047</td>\n",
              "      <td>womens Solid Dark Blue Top, Fitted top in soft...</td>\n",
              "      <td>selected_images_1/0116379047.jpg</td>\n",
              "      <td>&lt;PIL.Image.Image image mode=RGB size=1531x1750...</td>\n",
              "    </tr>\n",
              "    <tr>\n",
              "      <th>...</th>\n",
              "      <td>...</td>\n",
              "      <td>...</td>\n",
              "      <td>...</td>\n",
              "      <td>...</td>\n",
              "    </tr>\n",
              "    <tr>\n",
              "      <th>42236</th>\n",
              "      <td>0704630002</td>\n",
              "      <td>womens Solid Light Orange Sneakers, Trainers w...</td>\n",
              "      <td>selected_images_1/0704630002.jpg</td>\n",
              "      <td>&lt;PIL.Image.Image image mode=RGB size=1166x1750...</td>\n",
              "    </tr>\n",
              "    <tr>\n",
              "      <th>42237</th>\n",
              "      <td>0704630003</td>\n",
              "      <td>womens Colour blocking White Sneakers, Trainer...</td>\n",
              "      <td>selected_images_1/0704630003.jpg</td>\n",
              "      <td>&lt;PIL.Image.Image image mode=RGB size=1166x1750...</td>\n",
              "    </tr>\n",
              "    <tr>\n",
              "      <th>42238</th>\n",
              "      <td>0704630004</td>\n",
              "      <td>womens Colour blocking Black Sneakers, Trainer...</td>\n",
              "      <td>selected_images_1/0704630004.jpg</td>\n",
              "      <td>&lt;PIL.Image.Image image mode=RGB size=1166x1750...</td>\n",
              "    </tr>\n",
              "    <tr>\n",
              "      <th>42239</th>\n",
              "      <td>0704630005</td>\n",
              "      <td>womens Colour blocking Orange Sneakers, Traine...</td>\n",
              "      <td>selected_images_1/0704630005.jpg</td>\n",
              "      <td>&lt;PIL.Image.Image image mode=RGB size=1166x1750...</td>\n",
              "    </tr>\n",
              "    <tr>\n",
              "      <th>42240</th>\n",
              "      <td>0704630008</td>\n",
              "      <td>womens Colour blocking Black Sneakers, Trainer...</td>\n",
              "      <td>selected_images_1/0704630008.jpg</td>\n",
              "      <td>&lt;PIL.Image.Image image mode=RGB size=1166x1750...</td>\n",
              "    </tr>\n",
              "  </tbody>\n",
              "</table>\n",
              "<p>27284 rows × 4 columns</p>\n",
              "</div>"
            ],
            "text/plain": [
              "       article_id                                            caption  \\\n",
              "0      0108775015  womens Solid Black Vest top, Jersey top with n...   \n",
              "1      0108775044  womens Solid White Vest top, Jersey top with n...   \n",
              "2      0108775051  womens Stripe Off White Vest top, Jersey top w...   \n",
              "3      0111586001  womens Solid Black Leggings, Tights with built...   \n",
              "6      0116379047  womens Solid Dark Blue Top, Fitted top in soft...   \n",
              "...           ...                                                ...   \n",
              "42236  0704630002  womens Solid Light Orange Sneakers, Trainers w...   \n",
              "42237  0704630003  womens Colour blocking White Sneakers, Trainer...   \n",
              "42238  0704630004  womens Colour blocking Black Sneakers, Trainer...   \n",
              "42239  0704630005  womens Colour blocking Orange Sneakers, Traine...   \n",
              "42240  0704630008  womens Colour blocking Black Sneakers, Trainer...   \n",
              "\n",
              "                             image_path  \\\n",
              "0      selected_images_1/0108775015.jpg   \n",
              "1      selected_images_1/0108775044.jpg   \n",
              "2      selected_images_1/0108775051.jpg   \n",
              "3      selected_images_1/0111586001.jpg   \n",
              "6      selected_images_1/0116379047.jpg   \n",
              "...                                 ...   \n",
              "42236  selected_images_1/0704630002.jpg   \n",
              "42237  selected_images_1/0704630003.jpg   \n",
              "42238  selected_images_1/0704630004.jpg   \n",
              "42239  selected_images_1/0704630005.jpg   \n",
              "42240  selected_images_1/0704630008.jpg   \n",
              "\n",
              "                                                   image  \n",
              "0      <PIL.Image.Image image mode=RGB size=1166x1750...  \n",
              "1      <PIL.Image.Image image mode=RGB size=1166x1750...  \n",
              "2      <PIL.Image.Image image mode=RGB size=1166x1750...  \n",
              "3      <PIL.Image.Image image mode=RGB size=1166x1750...  \n",
              "6      <PIL.Image.Image image mode=RGB size=1531x1750...  \n",
              "...                                                  ...  \n",
              "42236  <PIL.Image.Image image mode=RGB size=1166x1750...  \n",
              "42237  <PIL.Image.Image image mode=RGB size=1166x1750...  \n",
              "42238  <PIL.Image.Image image mode=RGB size=1166x1750...  \n",
              "42239  <PIL.Image.Image image mode=RGB size=1166x1750...  \n",
              "42240  <PIL.Image.Image image mode=RGB size=1166x1750...  \n",
              "\n",
              "[27284 rows x 4 columns]"
            ]
          },
          "execution_count": 11,
          "metadata": {},
          "output_type": "execute_result"
        }
      ],
      "source": [
        "df"
      ]
    }
  ],
  "metadata": {
    "kernelspec": {
      "display_name": "Python 3",
      "language": "python",
      "name": "python3"
    },
    "language_info": {
      "codemirror_mode": {
        "name": "ipython",
        "version": 3
      },
      "file_extension": ".py",
      "mimetype": "text/x-python",
      "name": "python",
      "nbconvert_exporter": "python",
      "pygments_lexer": "ipython3",
      "version": "3.7.6"
    },
    "colab": {
      "provenance": []
    }
  },
  "nbformat": 4,
  "nbformat_minor": 0
}